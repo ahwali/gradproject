{
 "cells": [
  {
   "cell_type": "code",
   "execution_count": 7,
   "id": "6caff98a",
   "metadata": {},
   "outputs": [
    {
     "name": "stdout",
     "output_type": "stream",
     "text": [
      "Hello ahmed\n"
     ]
    }
   ],
   "source": [
    "print('Hello ahmed')"
   ]
  },
  {
   "cell_type": "code",
   "execution_count": 6,
   "id": "ad8d1270",
   "metadata": {},
   "outputs": [
    {
     "name": "stdout",
     "output_type": "stream",
     "text": [
      "Already up to date.\n"
     ]
    },
    {
     "name": "stderr",
     "output_type": "stream",
     "text": [
      "warning: LF will be replaced by CRLF in graduate project/COVID_dataset.ipynb.\n",
      "The file will have its original line endings in your working directory\n"
     ]
    },
    {
     "name": "stdout",
     "output_type": "stream",
     "text": [
      "[main 166dd92] tata box\n",
      " 1 file changed, 171 insertions(+)\n",
      " create mode 100644 graduate project/COVID_dataset.ipynb\n"
     ]
    },
    {
     "name": "stderr",
     "output_type": "stream",
     "text": [
      "To https://github.com/ahwali/gradproject.git\n",
      "   3ea22ba..166dd92  main -> main\n"
     ]
    }
   ],
   "source": [
    "!git pull\n",
    "!git add COVID_dataset.ipynb\n",
    "!git commit -m \"tata box\"\n",
    "!git push origin main"
   ]
  },
  {
   "cell_type": "code",
   "execution_count": 3,
   "id": "818c1618",
   "metadata": {},
   "outputs": [
    {
     "name": "stderr",
     "output_type": "stream",
     "text": [
      "fatal: cannot mkdir https://github.com/ahwali/gradproject.git: Invalid argument\n"
     ]
    }
   ],
   "source": [
    "!git init https://github.com/ahwali/gradproject.git"
   ]
  },
  {
   "cell_type": "code",
   "execution_count": 26,
   "id": "3d8f51b8",
   "metadata": {},
   "outputs": [
    {
     "name": "stdout",
     "output_type": "stream",
     "text": [
      "CONFLICT (modify/delete): graduate project/Untitled.ipynb deleted in 1d97a281a93a79d751152158e443db529b3c9c8a and modified in HEAD.  Version HEAD of graduate project/Untitled.ipynb left in tree.\n",
      "Automatic merge failed; fix conflicts and then commit the result.\n"
     ]
    },
    {
     "name": "stderr",
     "output_type": "stream",
     "text": [
      "From https://github.com/ahwali/gradproject\n",
      "   83da076..1d97a28  main       -> origin/main\n"
     ]
    }
   ],
   "source": [
    "!git pull"
   ]
  },
  {
   "cell_type": "code",
   "execution_count": 28,
   "id": "7a449df5",
   "metadata": {},
   "outputs": [
    {
     "name": "stdout",
     "output_type": "stream",
     "text": [
      "/c/Users/ahwal/Desktop/Classes/DS200/graduate project\n"
     ]
    }
   ],
   "source": [
    "!pwd"
   ]
  },
  {
   "cell_type": "code",
   "execution_count": 29,
   "id": "be69e7ad",
   "metadata": {},
   "outputs": [
    {
     "name": "stdout",
     "output_type": "stream",
     "text": [
      "[WinError 267] The directory name is invalid: 'Untitled.ipynb'\n",
      "C:\\Users\\ahwal\\Desktop\\Classes\\DS200\\graduate project\n"
     ]
    }
   ],
   "source": [
    "cd Untitled.ipynb"
   ]
  },
  {
   "cell_type": "code",
   "execution_count": null,
   "id": "4b59c274",
   "metadata": {},
   "outputs": [],
   "source": [
    "!cd Untitled.ipynb"
   ]
  }
 ],
 "metadata": {
  "kernelspec": {
   "display_name": "Python 3 (ipykernel)",
   "language": "python",
   "name": "python3"
  },
  "language_info": {
   "codemirror_mode": {
    "name": "ipython",
    "version": 3
   },
   "file_extension": ".py",
   "mimetype": "text/x-python",
   "name": "python",
   "nbconvert_exporter": "python",
   "pygments_lexer": "ipython3",
   "version": "3.9.7"
  }
 },
 "nbformat": 4,
 "nbformat_minor": 5
}
