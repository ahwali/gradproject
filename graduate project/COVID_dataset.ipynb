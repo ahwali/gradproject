{
 "cells": [
  {
   "cell_type": "code",
   "execution_count": 3,
   "id": "ad8d1270",
   "metadata": {},
   "outputs": [
    {
     "name": "stderr",
     "output_type": "stream",
     "text": [
      "warning: LF will be replaced by CRLF in graduate project/COVID_dataset.ipynb.\n",
      "The file will have its original line endings in your working directory\n"
     ]
    },
    {
     "name": "stdout",
     "output_type": "stream",
     "text": [
      "[main ef617a0] updates\n",
      " 1 file changed, 39 insertions(+), 8 deletions(-)\n"
     ]
    },
    {
     "name": "stderr",
     "output_type": "stream",
     "text": [
      "To https://github.com/ahwali/gradproject.git\n",
      "   5cf45ca..ef617a0  main -> main\n"
     ]
    }
   ],
   "source": [
    "!git pull\n",
    "!git add COVID_dataset.ipynb\n",
    "!git commit -m \"updates\"\n",
    "!git push origin main"
   ]
  },
  {
   "cell_type": "code",
   "execution_count": 2,
   "id": "b66c852e",
   "metadata": {},
   "outputs": [
    {
     "name": "stdout",
     "output_type": "stream",
     "text": [
      "Merge made by the 'ort' strategy.\n",
      " graduate project/anxietynotebook.ipynb | 1 +\n",
      " graduate project/model.ipynb           | 1 +\n",
      " 2 files changed, 2 insertions(+)\n",
      " create mode 100644 graduate project/anxietynotebook.ipynb\n",
      " create mode 100644 graduate project/model.ipynb\n"
     ]
    },
    {
     "name": "stderr",
     "output_type": "stream",
     "text": [
      "From https://github.com/ahwali/gradproject\n",
      "   eb56b79..5cf45ca  main       -> origin/main\n"
     ]
    }
   ],
   "source": []
  },
  {
   "cell_type": "code",
   "execution_count": 1,
   "id": "f4c2272f",
   "metadata": {},
   "outputs": [],
   "source": [
    "import pandas as pd\n",
    "import numpy as np\n",
    "import matplotlib.pyplot as plt\n",
    "import seaborn as sns"
   ]
  },
  {
   "cell_type": "code",
   "execution_count": 3,
   "id": "f3b41736",
   "metadata": {},
   "outputs": [],
   "source": [
    "df_ins = pd.read_csv('./dataset/nchs_covid_health_insurance_coverage.csv')\n",
    "df_access = pd.read_csv('./dataset/nchs_covid_reduced_access_to_health_care.csv')"
   ]
  },
  {
   "cell_type": "code",
   "execution_count": 4,
   "id": "6517ba56",
   "metadata": {},
   "outputs": [
    {
     "data": {
      "text/plain": [
       "array(['Indicator', 'Group', 'State', 'Subgroup', 'Phase', 'Time Period',\n",
       "       'Time Period Label', 'Time Period Start Date',\n",
       "       'Time Period End Date', 'Value', 'Low CI', 'High CI',\n",
       "       'Confidence Interval', 'Quartile Range'], dtype=object)"
      ]
     },
     "execution_count": 4,
     "metadata": {},
     "output_type": "execute_result"
    }
   ],
   "source": [
    "df_access.columns.values"
   ]
  },
  {
   "cell_type": "code",
   "execution_count": 5,
   "id": "3a59e5fc",
   "metadata": {},
   "outputs": [
    {
     "data": {
      "text/plain": [
       "array(['Delayed Medical Care, Last 4 Weeks',\n",
       "       'Did Not Get Needed Care, Last 4 Weeks',\n",
       "       'Delayed or Did Not Get Care, Last 4 Weeks'], dtype=object)"
      ]
     },
     "execution_count": 5,
     "metadata": {},
     "output_type": "execute_result"
    }
   ],
   "source": [
    "df_access['Indicator'].unique()"
   ]
  },
  {
   "cell_type": "code",
   "execution_count": 6,
   "id": "24d253cf",
   "metadata": {},
   "outputs": [
    {
     "data": {
      "text/plain": [
       "False"
      ]
     },
     "execution_count": 6,
     "metadata": {},
     "output_type": "execute_result"
    }
   ],
   "source": [
    "df_access = df_access.dropna(subset=['Value'])\n",
    "df_access['Value'].isna().any()"
   ]
  },
  {
   "cell_type": "code",
   "execution_count": 7,
   "id": "f641a752",
   "metadata": {},
   "outputs": [
    {
     "data": {
      "text/plain": [
       "array(['1', '2', '3 (Oct 28 � Dec 21)', '3 (Jan 6 � Mar 29)', '3.1'],\n",
       "      dtype=object)"
      ]
     },
     "execution_count": 7,
     "metadata": {},
     "output_type": "execute_result"
    }
   ],
   "source": [
    "df_access['Phase'].unique()"
   ]
  },
  {
   "cell_type": "code",
   "execution_count": 8,
   "id": "64672501",
   "metadata": {},
   "outputs": [
    {
     "data": {
      "text/plain": [
       "array(['United States', '18 - 29 years', '30 - 39 years', '40 - 49 years',\n",
       "       '50 - 59 years', '60 - 69 years', '70 - 79 years',\n",
       "       '80 years and above', 'Male', 'Female', 'Hispanic or Latino',\n",
       "       'Non-Hispanic White, single race',\n",
       "       'Non-Hispanic Black, single race',\n",
       "       'Non-Hispanic Asian, single race',\n",
       "       'Non-Hispanic, other races and multiple races',\n",
       "       'Less than a high school diploma', 'High school diploma or GED',\n",
       "       \"Some college/Associate's degree\", \"Bachelor's degree or higher\",\n",
       "       'Alabama', 'Alaska', 'Arizona', 'Arkansas', 'California',\n",
       "       'Colorado', 'Connecticut', 'Delaware', 'District of Columbia',\n",
       "       'Florida', 'Georgia', 'Hawaii', 'Idaho', 'Illinois', 'Indiana',\n",
       "       'Iowa', 'Kansas', 'Kentucky', 'Louisiana', 'Maine', 'Maryland',\n",
       "       'Massachusetts', 'Michigan', 'Minnesota', 'Mississippi',\n",
       "       'Missouri', 'Montana', 'Nebraska', 'Nevada', 'New Hampshire',\n",
       "       'New Jersey', 'New Mexico', 'New York', 'North Carolina',\n",
       "       'North Dakota', 'Ohio', 'Oklahoma', 'Oregon', 'Pennsylvania',\n",
       "       'Rhode Island', 'South Carolina', 'South Dakota', 'Tennessee',\n",
       "       'Texas', 'Utah', 'Vermont', 'Virginia', 'Washington',\n",
       "       'West Virginia', 'Wisconsin', 'Wyoming', 'With disability',\n",
       "       'Without disability'], dtype=object)"
      ]
     },
     "execution_count": 8,
     "metadata": {},
     "output_type": "execute_result"
    }
   ],
   "source": [
    "df_access['Subgroup'].unique()"
   ]
  },
  {
   "cell_type": "code",
   "execution_count": 9,
   "id": "1adf77f2",
   "metadata": {},
   "outputs": [],
   "source": [
    "df_access_Delayed = df_access[df_access['Indicator']=='Delayed Medical Care, Last 4 Weeks']\n",
    "df_access_Didnot = df_access[df_access['Indicator']=='Did Not Get Needed Care, Last 4 Weeks']\n",
    "df_access_Delayed_Didnot = df_access[df_access['Indicator']=='Delayed or Did Not Get Care, Last 4 Weeks']"
   ]
  },
  {
   "cell_type": "code",
   "execution_count": 10,
   "id": "acf50370",
   "metadata": {},
   "outputs": [
    {
     "name": "stderr",
     "output_type": "stream",
     "text": [
      "C:\\Users\\ahwal\\AppData\\Local\\Temp/ipykernel_1412/5513587.py:1: SettingWithCopyWarning: \n",
      "A value is trying to be set on a copy of a slice from a DataFrame.\n",
      "Try using .loc[row_indexer,col_indexer] = value instead\n",
      "\n",
      "See the caveats in the documentation: https://pandas.pydata.org/pandas-docs/stable/user_guide/indexing.html#returning-a-view-versus-a-copy\n",
      "  df_access_Delayed['Phase_adj'] = df_access_Delayed['Phase'].str.replace(\"3\\s\\(Oct 28.*\", '3.02', regex=True).str.replace(\"3\\s\\(Jan 6.*\", '3.05', regex=True)\n",
      "C:\\Users\\ahwal\\AppData\\Local\\Temp/ipykernel_1412/5513587.py:2: SettingWithCopyWarning: \n",
      "A value is trying to be set on a copy of a slice from a DataFrame.\n",
      "Try using .loc[row_indexer,col_indexer] = value instead\n",
      "\n",
      "See the caveats in the documentation: https://pandas.pydata.org/pandas-docs/stable/user_guide/indexing.html#returning-a-view-versus-a-copy\n",
      "  df_access_Didnot['Phase_adj'] = df_access_Didnot['Phase'].str.replace(\"3\\s\\(Oct 28.*\", '3.02', regex=True).str.replace(\"3\\s\\(Jan 6.*\", '3.05', regex=True)\n",
      "C:\\Users\\ahwal\\AppData\\Local\\Temp/ipykernel_1412/5513587.py:3: SettingWithCopyWarning: \n",
      "A value is trying to be set on a copy of a slice from a DataFrame.\n",
      "Try using .loc[row_indexer,col_indexer] = value instead\n",
      "\n",
      "See the caveats in the documentation: https://pandas.pydata.org/pandas-docs/stable/user_guide/indexing.html#returning-a-view-versus-a-copy\n",
      "  df_access_Delayed_Didnot['Phase_adj'] = df_access_Delayed_Didnot['Phase'].str.replace(\"3\\s\\(Oct 28.*\", '3.02', regex=True).str.replace(\"3\\s\\(Jan 6.*\", '3.05', regex=True)\n"
     ]
    }
   ],
   "source": [
    "df_access_Delayed['Phase_adj'] = df_access_Delayed['Phase'].str.replace(\"3\\s\\(Oct 28.*\", '3.02', regex=True).str.replace(\"3\\s\\(Jan 6.*\", '3.05', regex=True)\n",
    "df_access_Didnot['Phase_adj'] = df_access_Didnot['Phase'].str.replace(\"3\\s\\(Oct 28.*\", '3.02', regex=True).str.replace(\"3\\s\\(Jan 6.*\", '3.05', regex=True)\n",
    "df_access_Delayed_Didnot['Phase_adj'] = df_access_Delayed_Didnot['Phase'].str.replace(\"3\\s\\(Oct 28.*\", '3.02', regex=True).str.replace(\"3\\s\\(Jan 6.*\", '3.05', regex=True)"
   ]
  },
  {
   "cell_type": "code",
   "execution_count": 11,
   "id": "e71897b0",
   "metadata": {},
   "outputs": [],
   "source": [
    "pivot_Delayed = pd.pivot_table(df_access_Delayed, values='Value', index=['Indicator', 'Group', 'State', 'Subgroup'], columns=['Time Period'])"
   ]
  },
  {
   "cell_type": "code",
   "execution_count": 12,
   "id": "1ab92bd4",
   "metadata": {},
   "outputs": [],
   "source": [
    "Time_period_dict = {}\n",
    "for i in df_access_Delayed[df_access_Delayed.State=='California']['Time Period'].values:\n",
    "    Time_period_dict[i] = f\"{df_access_Delayed[df_access_Delayed.State=='California']['Time Period Start Date'].values[i-1]}-{df_access_Delayed[df_access_Delayed.State=='California']['Time Period End Date'].values[i-1]}\""
   ]
  },
  {
   "cell_type": "code",
   "execution_count": 13,
   "id": "7e8dd809",
   "metadata": {},
   "outputs": [
    {
     "data": {
      "text/plain": [
       "array(['United States', 'Alabama', 'Alaska', 'Arizona', 'Arkansas',\n",
       "       'California', 'Colorado', 'Connecticut', 'Delaware',\n",
       "       'District of Columbia', 'Florida', 'Georgia', 'Hawaii', 'Idaho',\n",
       "       'Illinois', 'Indiana', 'Iowa', 'Kansas', 'Kentucky', 'Louisiana',\n",
       "       'Maine', 'Maryland', 'Massachusetts', 'Michigan', 'Minnesota',\n",
       "       'Mississippi', 'Missouri', 'Montana', 'Nebraska', 'Nevada',\n",
       "       'New Hampshire', 'New Jersey', 'New Mexico', 'New York',\n",
       "       'North Carolina', 'North Dakota', 'Ohio', 'Oklahoma', 'Oregon',\n",
       "       'Pennsylvania', 'Rhode Island', 'South Carolina', 'South Dakota',\n",
       "       'Tennessee', 'Texas', 'Utah', 'Vermont', 'Virginia', 'Washington',\n",
       "       'West Virginia', 'Wisconsin', 'Wyoming'], dtype=object)"
      ]
     },
     "execution_count": 13,
     "metadata": {},
     "output_type": "execute_result"
    }
   ],
   "source": [
    "States = df_access_Delayed.State.unique()\n",
    "States"
   ]
  },
  {
   "cell_type": "code",
   "execution_count": 14,
   "id": "a4149f24",
   "metadata": {},
   "outputs": [
    {
     "data": {
      "text/plain": [
       "array(['National Estimate', 'By Age', 'By Sex',\n",
       "       'By Race/Hispanic ethnicity', 'By Education', 'By State',\n",
       "       'By Disability status'], dtype=object)"
      ]
     },
     "execution_count": 14,
     "metadata": {},
     "output_type": "execute_result"
    }
   ],
   "source": [
    "Groups = df_access_Delayed.Group.unique()\n",
    "Groups"
   ]
  },
  {
   "cell_type": "code",
   "execution_count": 15,
   "id": "4bfe4b04",
   "metadata": {},
   "outputs": [
    {
     "data": {
      "text/plain": [
       "array(['Hispanic or Latino', 'Non-Hispanic White, single race',\n",
       "       'Non-Hispanic Black, single race',\n",
       "       'Non-Hispanic Asian, single race',\n",
       "       'Non-Hispanic, other races and multiple races'], dtype=object)"
      ]
     },
     "execution_count": 15,
     "metadata": {},
     "output_type": "execute_result"
    }
   ],
   "source": [
    "Subgroups_ethnicity = df_access_Delayed[df_access_Delayed.Group=='By Race/Hispanic ethnicity'].Subgroup.unique()\n",
    "Subgroups_ethnicity"
   ]
  },
  {
   "cell_type": "code",
   "execution_count": 16,
   "id": "fbd5ff09",
   "metadata": {},
   "outputs": [
    {
     "data": {
      "text/html": [
       "<div>\n",
       "<style scoped>\n",
       "    .dataframe tbody tr th:only-of-type {\n",
       "        vertical-align: middle;\n",
       "    }\n",
       "\n",
       "    .dataframe tbody tr th {\n",
       "        vertical-align: top;\n",
       "    }\n",
       "\n",
       "    .dataframe thead th {\n",
       "        text-align: right;\n",
       "    }\n",
       "</style>\n",
       "<table border=\"1\" class=\"dataframe\">\n",
       "  <thead>\n",
       "    <tr style=\"text-align: right;\">\n",
       "      <th></th>\n",
       "      <th>Phase</th>\n",
       "      <th>Period</th>\n",
       "    </tr>\n",
       "  </thead>\n",
       "  <tbody>\n",
       "    <tr>\n",
       "      <th>0</th>\n",
       "      <td>1.00</td>\n",
       "      <td>04/23/2020-07/21/2020</td>\n",
       "    </tr>\n",
       "    <tr>\n",
       "      <th>1</th>\n",
       "      <td>2.00</td>\n",
       "      <td>08/19/2020-10/26/2020</td>\n",
       "    </tr>\n",
       "    <tr>\n",
       "      <th>2</th>\n",
       "      <td>3.02</td>\n",
       "      <td>10/28/2020-12/21/2020</td>\n",
       "    </tr>\n",
       "    <tr>\n",
       "      <th>3</th>\n",
       "      <td>3.05</td>\n",
       "      <td>01/06/2021-03/29/2021</td>\n",
       "    </tr>\n",
       "    <tr>\n",
       "      <th>4</th>\n",
       "      <td>3.10</td>\n",
       "      <td>04/14/2021-07/05/2021</td>\n",
       "    </tr>\n",
       "  </tbody>\n",
       "</table>\n",
       "</div>"
      ],
      "text/plain": [
       "   Phase                 Period\n",
       "0   1.00  04/23/2020-07/21/2020\n",
       "1   2.00  08/19/2020-10/26/2020\n",
       "2   3.02  10/28/2020-12/21/2020\n",
       "3   3.05  01/06/2021-03/29/2021\n",
       "4   3.10  04/14/2021-07/05/2021"
      ]
     },
     "execution_count": 16,
     "metadata": {},
     "output_type": "execute_result"
    }
   ],
   "source": [
    "phase_dict = {}\n",
    "j = 0\n",
    "for i in [1,2,3.02,3.05,3.1]:\n",
    "    phase_dict[i] = f\"{df_access_Didnot[df_access_Didnot.Subgroup == 'Female'].groupby('Phase_adj')['Time Period Start Date'].min()[j]}-{df_access_Didnot[df_access_Didnot.Subgroup == 'Female'].groupby('Phase_adj')['Time Period End Date'].max()[j]}\"\n",
    "    j+=1\n",
    "Phase_df = pd.DataFrame.from_dict(phase_dict, orient= 'index').reset_index().rename(columns={0: 'Period', 'index':'Phase'})\n",
    "Phase_df"
   ]
  },
  {
   "cell_type": "code",
   "execution_count": 17,
   "id": "b4300da8",
   "metadata": {},
   "outputs": [
    {
     "data": {
      "image/png": "[encoded data removed]",
      "text/plain": [
       "<Figure size 1152x864 with 1 Axes>"
      ]
     },
     "metadata": {
      "needs_background": "light"
     },
     "output_type": "display_data"
    }
   ],
   "source": [
    "plt.figure(figsize=(16,12))\n",
    "for i in range(0,7):\n",
    "    sns.lineplot(x=Time_period_dict.values(), y=pivot_Delayed.iloc[i,:], label=pivot_Delayed.iloc[i].name[3])\n",
    "    plt.legend()\n",
    "plt.xticks(rotation='vertical', fontsize = 13)\n",
    "plt.xlabel('Time period', fontsize = 15)\n",
    "plt.ylabel('Percentage of people that have delayed access to medical care %', fontsize = 15)\n",
    "plt.show()"
   ]
  },
  {
   "cell_type": "code",
   "execution_count": 18,
   "id": "f5549d5b",
   "metadata": {},
   "outputs": [
    {
     "data": {
      "text/html": [
       "<div>\n",
       "<style scoped>\n",
       "    .dataframe tbody tr th:only-of-type {\n",
       "        vertical-align: middle;\n",
       "    }\n",
       "\n",
       "    .dataframe tbody tr th {\n",
       "        vertical-align: top;\n",
       "    }\n",
       "\n",
       "    .dataframe thead th {\n",
       "        text-align: right;\n",
       "    }\n",
       "</style>\n",
       "<table border=\"1\" class=\"dataframe\">\n",
       "  <thead>\n",
       "    <tr style=\"text-align: right;\">\n",
       "      <th></th>\n",
       "      <th>Phase_1 Value</th>\n",
       "      <th>Phase_3.1 Value</th>\n",
       "      <th>% Change</th>\n",
       "    </tr>\n",
       "    <tr>\n",
       "      <th>State</th>\n",
       "      <th></th>\n",
       "      <th></th>\n",
       "      <th></th>\n",
       "    </tr>\n",
       "  </thead>\n",
       "  <tbody>\n",
       "    <tr>\n",
       "      <th>Oregon</th>\n",
       "      <td>49.766667</td>\n",
       "      <td>25.916667</td>\n",
       "      <td>23.850000</td>\n",
       "    </tr>\n",
       "    <tr>\n",
       "      <th>Alaska</th>\n",
       "      <td>49.533333</td>\n",
       "      <td>22.850000</td>\n",
       "      <td>26.683333</td>\n",
       "    </tr>\n",
       "    <tr>\n",
       "      <th>Maine</th>\n",
       "      <td>49.000000</td>\n",
       "      <td>18.883333</td>\n",
       "      <td>30.116667</td>\n",
       "    </tr>\n",
       "    <tr>\n",
       "      <th>Washington</th>\n",
       "      <td>48.616667</td>\n",
       "      <td>23.616667</td>\n",
       "      <td>25.000000</td>\n",
       "    </tr>\n",
       "    <tr>\n",
       "      <th>New Jersey</th>\n",
       "      <td>48.416667</td>\n",
       "      <td>23.233333</td>\n",
       "      <td>25.183333</td>\n",
       "    </tr>\n",
       "  </tbody>\n",
       "</table>\n",
       "</div>"
      ],
      "text/plain": [
       "            Phase_1 Value  Phase_3.1 Value   % Change\n",
       "State                                                \n",
       "Oregon          49.766667        25.916667  23.850000\n",
       "Alaska          49.533333        22.850000  26.683333\n",
       "Maine           49.000000        18.883333  30.116667\n",
       "Washington      48.616667        23.616667  25.000000\n",
       "New Jersey      48.416667        23.233333  25.183333"
      ]
     },
     "execution_count": 18,
     "metadata": {},
     "output_type": "execute_result"
    }
   ],
   "source": [
    "state_data_phase = df_access_Delayed_Didnot[(df_access_Delayed_Didnot['Phase_adj']=='1')&\n",
    "                  (df_access_Delayed_Didnot['Group']=='By State')].groupby('State')['Value'].mean().sort_values(ascending=False)\n",
    "state_data_phase_1_df = state_data_phase.to_frame()\n",
    "state_data_phase_1_df.rename(columns={'Value': 'Phase_1 Value'}, inplace=True)\n",
    "state_data_phase_1_df['Phase_3.1 Value'] = df_access_Delayed_Didnot[(df_access_Delayed_Didnot['Phase_adj']=='3.1')&\n",
    "                  (df_access_Delayed_Didnot['Group']=='By State')].groupby('State')['Value'].mean()\n",
    "state_data_phase_1_df['% Change'] = (state_data_phase_1_df['Phase_1 Value']-state_data_phase_1_df['Phase_3.1 Value'])\n",
    "state_data_phase_1_df.head()"
   ]
  },
  {
   "cell_type": "code",
   "execution_count": 19,
   "id": "5841857e",
   "metadata": {},
   "outputs": [
    {
     "data": {
      "image/png": "[encoded data removed]",
      "text/plain": [
       "<Figure size 1152x864 with 1 Axes>"
      ]
     },
     "metadata": {
      "needs_background": "light"
     },
     "output_type": "display_data"
    }
   ],
   "source": [
    "plt.figure(figsize=(16,12))\n",
    "sns.set_color_codes('pastel')\n",
    "sns.barplot(y=state_data_phase_1_df.index, x=state_data_phase_1_df['Phase_1 Value'], color='b', label='Phase 1')\n",
    "sns.set_color_codes('muted')\n",
    "sns.barplot(y=state_data_phase_1_df.index, x=state_data_phase_1_df['Phase_3.1 Value'], color='b', label='Phase 3.1')\n",
    "plt.title('Percentage of people who DID NOT recieve or had delayed medical care access across U.S. states during phases 1 & 3.1', y=1.02)\n",
    "plt.xlabel('Percentage %')\n",
    "plt.ylabel('')\n",
    "plt.legend()\n",
    "plt.show()"
   ]
  },
  {
   "cell_type": "code",
   "execution_count": 22,
   "id": "c003ba8a",
   "metadata": {},
   "outputs": [],
   "source": [
    "# Subgroups = df_access_Delayed_Didnot.Subgroup.unique()\n",
    "# plt.figure(figsize=(14,8))\n",
    "# for sub in Subgroups:\n",
    "#     plt.barh(y=sub, width=df_access_Didnot[df_access_Didnot['Subgroup']==sub].groupby('Phase_adj')['Value'].mean().iloc[0])\n",
    "# plt.yticks(fontsize=13)\n",
    "# plt.xticks(fontsize=13)\n",
    "# plt.xlabel('Percentage %', fontsize=13)\n",
    "# plt.title('Percentage of people that DID NOT have access to medical services across different ethnicities during Phase 1 (Apr 2020 - Aug 2020)', fontsize=14, y=1.05)\n",
    "# plt.show()"
   ]
  },
  {
   "cell_type": "code",
   "execution_count": 23,
   "id": "72b11028",
   "metadata": {},
   "outputs": [
    {
     "name": "stdout",
     "output_type": "stream",
     "text": [
      "State with lowest percentage of delayed medical care access between Apr 2020 and Aug 2020:  North Dakota\n",
      "State with highest percentage of delayed medical care access between Apr 2020 and Aug 2020:  Oregon\n"
     ]
    }
   ],
   "source": [
    "minim = 45\n",
    "for state in States[1:]:\n",
    "    if np.mean(df_access_Delayed[df_access_Delayed['State']==state]['Value'][:13]) < minim:\n",
    "        minim = np.mean(df_access_Delayed[df_access_Delayed['State']==state]['Value'][:13])\n",
    "        state_min = state\n",
    "maxim = 0\n",
    "for state in States[1:]:\n",
    "    if np.mean(df_access_Delayed[df_access_Delayed['State']==state]['Value'][:13]) > maxim:\n",
    "        maxim = np.mean(df_access_Delayed[df_access_Delayed['State']==state]['Value'][:13])\n",
    "        state_max = state\n",
    "\n",
    "print('State with lowest percentage of delayed medical care access between Apr 2020 and Aug 2020: ', state_min)\n",
    "print('State with highest percentage of delayed medical care access between Apr 2020 and Aug 2020: ', state_max)"
   ]
  },
  {
   "cell_type": "code",
   "execution_count": 24,
   "id": "dbfd256c",
   "metadata": {},
   "outputs": [
    {
     "data": {
      "image/png": "[encoded data removed]",
      "text/plain": [
       "<Figure size 432x288 with 1 Axes>"
      ]
     },
     "metadata": {
      "needs_background": "light"
     },
     "output_type": "display_data"
    }
   ],
   "source": [
    "x = np.arange(0,5)\n",
    "y_1 = df_access_Delayed_Didnot[df_access_Delayed_Didnot['Subgroup']=='Male'].groupby('Phase_adj')['Value'].mean()\n",
    "y_2 = df_access_Delayed_Didnot[df_access_Delayed_Didnot['Subgroup']=='Female'].groupby('Phase_adj')['Value'].mean()\n",
    "plt.bar(x-0.15, height=y_1, width=0.3, label='Male')\n",
    "plt.bar(x+0.15, height=y_2, width=0.3, label='Female')\n",
    "plt.xticks(x, phase_dict.values(), rotation='vertical')\n",
    "plt.title('Percentage of females vs males who had delayed or did not recieve medical care', y=1.05)\n",
    "plt.ylabel('Percentage %')\n",
    "plt.legend()\n",
    "plt.show()"
   ]
  },
  {
   "cell_type": "markdown",
   "id": "600aa2e9",
   "metadata": {},
   "source": [
    "## Depression vs health insurance"
   ]
  },
  {
   "cell_type": "code",
   "execution_count": 25,
   "id": "eb698793",
   "metadata": {},
   "outputs": [],
   "source": [
    "import pandas as pd\n",
    "import numpy as np\n",
    "from scipy.stats import linregress\n",
    "import re\n",
    "import matplotlib.pyplot as plt\n",
    "import seaborn as sns"
   ]
  },
  {
   "cell_type": "code",
   "execution_count": 26,
   "id": "44cd0816",
   "metadata": {},
   "outputs": [],
   "source": [
    "mental_care = pd.read_csv('./dataset/nchs_covid_mental_health_care.csv')\n",
    "health_insurance = pd.read_csv('./dataset/nchs_covid_health_insurance_coverage.csv')\n",
    "anexiety_project = pd.read_csv('./dataset/nchs_covid_indicators_of_anxiety_depression.csv')"
   ]
  },
  {
   "cell_type": "code",
   "execution_count": 27,
   "id": "682f4f02",
   "metadata": {},
   "outputs": [
    {
     "data": {
      "text/plain": [
       "array(['1', '-1', '2', '3 (Oct 28 � Dec 21)', '3 (Jan 6 � Mar 29)', '3.1',\n",
       "       '3.2', '3.3', '3.4'], dtype=object)"
      ]
     },
     "execution_count": 27,
     "metadata": {},
     "output_type": "execute_result"
    }
   ],
   "source": [
    "anexiety_project.Phase.unique()"
   ]
  },
  {
   "cell_type": "code",
   "execution_count": 28,
   "id": "2bda5917",
   "metadata": {},
   "outputs": [],
   "source": [
    "def pivot_tables(dataset):\n",
    "    unique_indicators = dataset.Indicator.unique()\n",
    "    L_pivot_data = []\n",
    "    for indicator in unique_indicators:\n",
    "        pivoted = pd.pivot_table(dataset[dataset.Indicator==indicator], values='Value', index=['Indicator', 'Group', 'State', 'Subgroup'], columns=['Time Period'])\n",
    "        L_pivot_data.append(pivoted)\n",
    "    return L_pivot_data\n",
    "data_pivots = pivot_tables(anexiety_project)"
   ]
  },
  {
   "cell_type": "code",
   "execution_count": 29,
   "id": "e9886c82",
   "metadata": {},
   "outputs": [],
   "source": [
    "def pipeline(origin):\n",
    "    L_dfs = []\n",
    "    unique_indicators = origin.Indicator.unique()\n",
    "    for ind in unique_indicators:\n",
    "        data = origin[origin['Indicator'] == ind]\n",
    "        dict_phases = {}\n",
    "        collective_df = pd.DataFrame()\n",
    "\n",
    "        Subgroups_unique = data.Subgroup.unique()\n",
    "        data['Phase'].replace(r'.*\\d\\s.*O.*', '3.02', regex=True, inplace=True)\n",
    "        data['Phase'].replace(r'.*\\d\\s.*J.*', '3.05', regex=True, inplace=True)\n",
    "        unique_phases = data.Phase.unique()\n",
    "        time_phase = data[(data.Subgroup == Subgroups_unique[0]) & (data.Phase!= '-1')]\n",
    "        for phase in unique_phases:\n",
    "            L = []\n",
    "            for i in range(len(time_phase)):\n",
    "                if time_phase.Phase.values[i] == phase:\n",
    "                    L.append(time_phase['Time Period'].values[i])\n",
    "            dict_phases[phase] = L\n",
    "        for subgroup in Subgroups_unique:\n",
    "            s = pd.DataFrame(data[data.Subgroup==subgroup].groupby('Phase')['Value'].mean())\n",
    "            s['Subgroup'] = subgroup\n",
    "            collective_df = pd.concat([collective_df, s], axis=0 )\n",
    "            \n",
    "        collective_df.rename(columns={'Value' : ind}, inplace=True)   \n",
    "        collective_df.dropna(inplace=True)\n",
    "        collective_df.reset_index(inplace=True)\n",
    "        L_dfs.append(collective_df)\n",
    "        \n",
    "    return L_dfs, unique_indicators"
   ]
  },
  {
   "cell_type": "code",
   "execution_count": 30,
   "id": "8ed0649e",
   "metadata": {},
   "outputs": [
    {
     "name": "stderr",
     "output_type": "stream",
     "text": [
      "D:\\anaconda\\lib\\site-packages\\pandas\\core\\generic.py:6619: SettingWithCopyWarning: \n",
      "A value is trying to be set on a copy of a slice from a DataFrame\n",
      "\n",
      "See the caveats in the documentation: https://pandas.pydata.org/pandas-docs/stable/user_guide/indexing.html#returning-a-view-versus-a-copy\n",
      "  return self._update_inplace(result)\n"
     ]
    }
   ],
   "source": [
    "dfss, indicators = pipeline(anexiety_project)"
   ]
  },
  {
   "cell_type": "code",
   "execution_count": 33,
   "id": "29e52e65",
   "metadata": {},
   "outputs": [],
   "source": [
    "def ohe(dataframes):\n",
    "    L_ohe_dfs = []\n",
    "    for data in dataframes:\n",
    "        data.reset_index(inplace=True)\n",
    "        data.drop(columns='index', inplace=True)\n",
    "        m = len(data.Phase.unique())\n",
    "        n = len(data)\n",
    "        arr = np.zeros([n,m])\n",
    "        for i in range(m):\n",
    "            for j in range(n):\n",
    "                if data.Phase.values[j] == data.Phase.unique()[i]:\n",
    "                    arr[j,i] = 1\n",
    "        nn = pd.DataFrame(arr, columns=data.Phase.unique())\n",
    "        ohe = pd.concat([data, nn], axis=1)\n",
    "        L_ohe_dfs.append(ohe)\n",
    "    return L_ohe_dfs"
   ]
  },
  {
   "cell_type": "code",
   "execution_count": 34,
   "id": "a3a1ca4b",
   "metadata": {},
   "outputs": [
    {
     "ename": "NameError",
     "evalue": "name 'L_dfs_Depr' is not defined",
     "output_type": "error",
     "traceback": [
      "\u001b[1;31m---------------------------------------------------------------------------\u001b[0m",
      "\u001b[1;31mNameError\u001b[0m                                 Traceback (most recent call last)",
      "\u001b[1;32m~\\AppData\\Local\\Temp/ipykernel_1412/4082719818.py\u001b[0m in \u001b[0;36m<module>\u001b[1;34m\u001b[0m\n\u001b[1;32m----> 1\u001b[1;33m \u001b[0mL_dfs_Depr\u001b[0m\u001b[1;33m[\u001b[0m\u001b[1;36m0\u001b[0m\u001b[1;33m]\u001b[0m\u001b[1;33m\u001b[0m\u001b[1;33m\u001b[0m\u001b[0m\n\u001b[0m",
      "\u001b[1;31mNameError\u001b[0m: name 'L_dfs_Depr' is not defined"
     ]
    }
   ],
   "source": [
    "L_dfs_Depr[0]"
   ]
  },
  {
   "cell_type": "code",
   "execution_count": 35,
   "id": "5614fbf7",
   "metadata": {},
   "outputs": [],
   "source": [
    "def plot_corr(data_1, unique_1, data_2, unique_2, verbose=False):\n",
    "    m = len(data_1)\n",
    "    n = len(data_2)\n",
    "    plt.subplots(nrows=m, ncols=n, figsize=(30,20))   \n",
    "    \n",
    "    merged_dfs = []\n",
    "\n",
    "    t = 0\n",
    "    for i in range(m):\n",
    "        for j in range(n):\n",
    "            t+=1\n",
    "            merged = pd.merge(data_1[i], data_2[j], on=['Phase', 'Subgroup'], how='left')\n",
    "            merged.dropna(inplace=True)\n",
    "            merged.rename(columns={'Value_x' : unique_1[i], 'Value_y' :unique_2[j]}, inplace=True)\n",
    "            \n",
    "            #move label column to first position\n",
    "            col = merged.pop(unique_1[i])\n",
    "            merged.insert(0, col.name, col)\n",
    "            \n",
    "            plt.subplot(m,n, t)\n",
    "            plt.scatter(x=merged[unique_1[i]], y=merged[unique_2[j]])\n",
    "            plt.title(f'{unique_1[i]} vs {unique_2[j]}')\n",
    "            plt.xlabel(f'{unique_1[i]}')\n",
    "            plt.ylabel(f'{unique_2[j]}')\n",
    "            \n",
    "            merged_dfs.append(merged)\n",
    "    return merged_dfs"
   ]
  },
  {
   "cell_type": "code",
   "execution_count": 36,
   "id": "bb9cc770",
   "metadata": {},
   "outputs": [],
   "source": [
    "L_dfs_HS, unique_indicators_HS = pipeline(health_insurance)\n",
    "L_dfs_Depr, unique_indicators_Depr = pipeline(anexiety_project)"
   ]
  },
  {
   "cell_type": "code",
   "execution_count": 37,
   "id": "cbe37112",
   "metadata": {},
   "outputs": [
    {
     "data": {
      "image/png": "[encoded data removed]",
      "text/plain": [
       "<Figure size 2160x1440 with 9 Axes>"
      ]
     },
     "metadata": {
      "needs_background": "light"
     },
     "output_type": "display_data"
    }
   ],
   "source": [
    "merged_dfs = plot_corr(pipeline(anexiety_project)[0], pipeline(anexiety_project)[1],\n",
    "                       pipeline(health_insurance)[0], pipeline(health_insurance)[1])"
   ]
  },
  {
   "cell_type": "code",
   "execution_count": 38,
   "id": "d915ab20",
   "metadata": {},
   "outputs": [],
   "source": [
    "ohe_df_final = ohe(merged_dfs)"
   ]
  },
  {
   "cell_type": "code",
   "execution_count": 39,
   "id": "2d5a7c21",
   "metadata": {},
   "outputs": [],
   "source": [
    "from sklearn.ensemble import RandomForestRegressor\n",
    "from sklearn.model_selection import train_test_split\n",
    "from sklearn.metrics import accuracy_score"
   ]
  },
  {
   "cell_type": "code",
   "execution_count": 40,
   "id": "d1972a20",
   "metadata": {},
   "outputs": [],
   "source": [
    "def model_train(data_ohe, quant):\n",
    "    L_data = []\n",
    "    L_models = []\n",
    "    L_scores = []\n",
    "    L_predictions = []\n",
    "    True_labels = []\n",
    "    \n",
    "    for train in data_ohe:\n",
    "        np.random.seed(42)\n",
    "        q = train.iloc[:,3].quantile(0.80)\n",
    "        ohe_train = train[train.iloc[:,3]<q]\n",
    "        sample_df = ohe_train.sample(len(ohe_train))\n",
    "        sample_df.drop(columns=['Phase', 'Subgroup'], inplace=True)\n",
    "\n",
    "        X = sample_df.iloc[:, 1:].values\n",
    "        y = sample_df.iloc[:, 0].values\n",
    "\n",
    "        x_train,x_test, y_train,y_test = train_test_split(X, y, test_size=0.1)\n",
    "        model = RandomForestRegressor()\n",
    "\n",
    "        model.fit(x_train, y_train)\n",
    "        predictions = model.predict(x_test)\n",
    "        score = model.score(x_test,y_test)\n",
    "        \n",
    "        L_models.append(model)\n",
    "        L_scores.append(score)\n",
    "        L_data.append(sample_df)\n",
    "        L_predictions.append(predictions)\n",
    "        True_labels.append(y_test)\n",
    "        \n",
    "    return L_models, L_scores, L_data, L_predictions, True_labels"
   ]
  },
  {
   "cell_type": "code",
   "execution_count": 41,
   "id": "836b42fb",
   "metadata": {},
   "outputs": [
    {
     "data": {
      "text/plain": [
       "[0.10128741891271698,\n",
       " 0.25424333820878553,\n",
       " 0.7593869341760378,\n",
       " 0.2596564603175707,\n",
       " 0.5558062608035436,\n",
       " 0.7568878476299769,\n",
       " 0.2431916395024103,\n",
       " 0.5868083255125314,\n",
       " 0.7541051801717554]"
      ]
     },
     "execution_count": 41,
     "metadata": {},
     "output_type": "execute_result"
    }
   ],
   "source": [
    "models, scores, data, predictions, labels = model_train(ohe_df_final, 0.80)\n",
    "scores"
   ]
  },
  {
   "cell_type": "code",
   "execution_count": 42,
   "id": "d39ccaa8",
   "metadata": {},
   "outputs": [
    {
     "data": {
      "image/png": "[encoded data removed]",
      "text/plain": [
       "<Figure size 1440x432 with 3 Axes>"
      ]
     },
     "metadata": {
      "needs_background": "light"
     },
     "output_type": "display_data"
    }
   ],
   "source": [
    "high_scores = [score for score in scores if score >= 0.7]\n",
    "indicies = []\n",
    "for j in range(len(high_scores)):\n",
    "    indicies.append(scores.index(high_scores[j]))\n",
    "\n",
    "plt.figure(figsize=(20,6))\n",
    "k = 1\n",
    "for i in indicies:\n",
    "    plt.subplot(1,3,k)\n",
    "    plt.scatter(labels[i], predictions[i], c='blue')\n",
    "    plt.xlabel('true labels')\n",
    "    plt.ylabel('predictions')\n",
    "    plt.title(f'predicting {data[i].columns[0]}')\n",
    "    x = np.arange(labels[i].min(), labels[i].max())\n",
    "    slope, intercept = linregress(labels[i],predictions[i])[0], linregress(labels[i],predictions[i])[1]\n",
    "    y = x*slope + intercept\n",
    "    plt.plot(x,y, c='red', linestyle='--')\n",
    "    k+=1\n"
   ]
  },
  {
   "cell_type": "code",
   "execution_count": 43,
   "id": "0029a36b",
   "metadata": {},
   "outputs": [
    {
     "data": {
      "text/plain": [
       "<AxesSubplot:>"
      ]
     },
     "execution_count": 43,
     "metadata": {},
     "output_type": "execute_result"
    },
    {
     "data": {
      "image/png": "[encoded data removed]",
      "text/plain": [
       "<Figure size 432x288 with 2 Axes>"
      ]
     },
     "metadata": {
      "needs_background": "light"
     },
     "output_type": "display_data"
    }
   ],
   "source": [
    "\n",
    "merged = L_dfs_HS[0]\n",
    "for i in range(0, len(L_dfs_HS)-1):\n",
    "    merged = pd.merge(merged, L_dfs_HS[i+1], on=['Phase', 'Subgroup'], how='left') \n",
    "for i in range(0, len(L_dfs_Depr)):\n",
    "    merged = pd.merge(merged, L_dfs_Depr[i], on=['Phase', 'Subgroup'], how='left') \n",
    "merged.drop(columns=['Phase', 'Subgroup'], inplace=True)\n",
    "sns.heatmap(merged.corr())"
   ]
  },
  {
   "cell_type": "markdown",
   "id": "bea0900d",
   "metadata": {},
   "source": [
    "## PCA"
   ]
  },
  {
   "cell_type": "code",
   "execution_count": 1,
   "id": "c31e0b00",
   "metadata": {},
   "outputs": [],
   "source": [
    "import pandas as pd\n",
    "import numpy as np\n",
    "import matplotlib.pyplot as plt\n",
    "import seaborn as sns\n",
    "import plotly.express as px"
   ]
  },
  {
   "cell_type": "code",
   "execution_count": 2,
   "id": "2a780f5e",
   "metadata": {},
   "outputs": [],
   "source": [
    "def data_states(df, indicator, phases):\n",
    "    df = df[(df.Indicator == indicator) &\n",
    "           (df.Phase.isin(phases)) &\n",
    "           (df.Group == 'By State')]\n",
    "    df = df.groupby(['State', 'Phase']).mean().reset_index()\n",
    "    df = pd.pivot_table(df, values='Value', index= 'State', columns= 'Phase')\n",
    "    for phase in phases:\n",
    "        df.rename(columns={phase: f'{indicator}_{phase}'}, inplace=True)\n",
    "    return df"
   ]
  },
  {
   "cell_type": "code",
   "execution_count": 3,
   "id": "aa46003c",
   "metadata": {},
   "outputs": [],
   "source": [
    "df_mental = pd.read_csv('./dataset/nchs_covid_mental_health_care.csv')\n",
    "df_anexiety = pd.read_csv('./dataset/nchs_covid_indicators_of_anxiety_depression.csv')\n",
    "df_access = pd.read_csv('./dataset/nchs_covid_reduced_access_to_health_care.csv')\n",
    "df_insurance = pd.read_csv('./dataset/nchs_covid_health_insurance_coverage.csv')\n",
    "df_telemedicine = pd.read_csv('./dataset/nchs_covid_telemedicine_usage.csv')"
   ]
  },
  {
   "cell_type": "code",
   "execution_count": 4,
   "id": "357cb12b",
   "metadata": {},
   "outputs": [
    {
     "data": {
      "text/html": [
       "<div>\n",
       "<style scoped>\n",
       "    .dataframe tbody tr th:only-of-type {\n",
       "        vertical-align: middle;\n",
       "    }\n",
       "\n",
       "    .dataframe tbody tr th {\n",
       "        vertical-align: top;\n",
       "    }\n",
       "\n",
       "    .dataframe thead th {\n",
       "        text-align: right;\n",
       "    }\n",
       "</style>\n",
       "<table border=\"1\" class=\"dataframe\">\n",
       "  <thead>\n",
       "    <tr style=\"text-align: right;\">\n",
       "      <th></th>\n",
       "      <th>party</th>\n",
       "    </tr>\n",
       "    <tr>\n",
       "      <th>State</th>\n",
       "      <th></th>\n",
       "    </tr>\n",
       "  </thead>\n",
       "  <tbody>\n",
       "    <tr>\n",
       "      <th>Alabama</th>\n",
       "      <td>Republican</td>\n",
       "    </tr>\n",
       "    <tr>\n",
       "      <th>Alaska</th>\n",
       "      <td>Republican</td>\n",
       "    </tr>\n",
       "    <tr>\n",
       "      <th>Arizona</th>\n",
       "      <td>Republican</td>\n",
       "    </tr>\n",
       "    <tr>\n",
       "      <th>Arkansas</th>\n",
       "      <td>Republican</td>\n",
       "    </tr>\n",
       "    <tr>\n",
       "      <th>California</th>\n",
       "      <td>Democratic</td>\n",
       "    </tr>\n",
       "  </tbody>\n",
       "</table>\n",
       "</div>"
      ],
      "text/plain": [
       "                 party\n",
       "State                 \n",
       "Alabama     Republican\n",
       "Alaska      Republican\n",
       "Arizona     Republican\n",
       "Arkansas    Republican\n",
       "California  Democratic"
      ]
     },
     "execution_count": 4,
     "metadata": {},
     "output_type": "execute_result"
    }
   ],
   "source": [
    "party = pd.read_csv('./dataset/party_affliation.csv')\n",
    "party['party'] = np.where(party['Republican'] > party['Democratic'], 'Republican', 'Democratic')\n",
    "party = party[['State', 'party']].set_index('State')\n",
    "party.head()"
   ]
  },
  {
   "cell_type": "code",
   "execution_count": 5,
   "id": "ca025cef",
   "metadata": {},
   "outputs": [
    {
     "name": "stderr",
     "output_type": "stream",
     "text": [
      "C:\\Users\\ahwal\\AppData\\Local\\Temp/ipykernel_9620/3455605126.py:6: SettingWithCopyWarning: \n",
      "A value is trying to be set on a copy of a slice from a DataFrame\n",
      "\n",
      "See the caveats in the documentation: https://pandas.pydata.org/pandas-docs/stable/user_guide/indexing.html#returning-a-view-versus-a-copy\n",
      "  cons_lib['ideology'][i] = 'Conservative'\n",
      "D:\\anaconda\\lib\\site-packages\\pandas\\core\\indexing.py:1732: SettingWithCopyWarning: \n",
      "A value is trying to be set on a copy of a slice from a DataFrame\n",
      "\n",
      "See the caveats in the documentation: https://pandas.pydata.org/pandas-docs/stable/user_guide/indexing.html#returning-a-view-versus-a-copy\n",
      "  self._setitem_single_block(indexer, value, name)\n"
     ]
    },
    {
     "data": {
      "text/html": [
       "<div>\n",
       "<style scoped>\n",
       "    .dataframe tbody tr th:only-of-type {\n",
       "        vertical-align: middle;\n",
       "    }\n",
       "\n",
       "    .dataframe tbody tr th {\n",
       "        vertical-align: top;\n",
       "    }\n",
       "\n",
       "    .dataframe thead th {\n",
       "        text-align: right;\n",
       "    }\n",
       "</style>\n",
       "<table border=\"1\" class=\"dataframe\">\n",
       "  <thead>\n",
       "    <tr style=\"text-align: right;\">\n",
       "      <th></th>\n",
       "      <th>Conservative</th>\n",
       "      <th>Moderate</th>\n",
       "      <th>Liberal</th>\n",
       "      <th>ideology</th>\n",
       "    </tr>\n",
       "    <tr>\n",
       "      <th>State</th>\n",
       "      <th></th>\n",
       "      <th></th>\n",
       "      <th></th>\n",
       "      <th></th>\n",
       "    </tr>\n",
       "  </thead>\n",
       "  <tbody>\n",
       "    <tr>\n",
       "      <th>Alabama</th>\n",
       "      <td>0.50</td>\n",
       "      <td>0.29</td>\n",
       "      <td>0.12</td>\n",
       "      <td>Conservative</td>\n",
       "    </tr>\n",
       "    <tr>\n",
       "      <th>Alaska</th>\n",
       "      <td>0.34</td>\n",
       "      <td>0.37</td>\n",
       "      <td>0.23</td>\n",
       "      <td>Moderate</td>\n",
       "    </tr>\n",
       "    <tr>\n",
       "      <th>Arizona</th>\n",
       "      <td>0.39</td>\n",
       "      <td>0.31</td>\n",
       "      <td>0.23</td>\n",
       "      <td>Conservative</td>\n",
       "    </tr>\n",
       "    <tr>\n",
       "      <th>Arkansas</th>\n",
       "      <td>0.42</td>\n",
       "      <td>0.38</td>\n",
       "      <td>0.14</td>\n",
       "      <td>Conservative</td>\n",
       "    </tr>\n",
       "    <tr>\n",
       "      <th>California</th>\n",
       "      <td>0.31</td>\n",
       "      <td>0.34</td>\n",
       "      <td>0.29</td>\n",
       "      <td>Moderate</td>\n",
       "    </tr>\n",
       "  </tbody>\n",
       "</table>\n",
       "</div>"
      ],
      "text/plain": [
       "            Conservative  Moderate  Liberal      ideology\n",
       "State                                                    \n",
       "Alabama             0.50      0.29     0.12  Conservative\n",
       "Alaska              0.34      0.37     0.23      Moderate\n",
       "Arizona             0.39      0.31     0.23  Conservative\n",
       "Arkansas            0.42      0.38     0.14  Conservative\n",
       "California          0.31      0.34     0.29      Moderate"
      ]
     },
     "execution_count": 5,
     "metadata": {},
     "output_type": "execute_result"
    }
   ],
   "source": [
    "#https://www.pewresearch.org/religion/religious-landscape-study/compare/political-ideology/by/state/\n",
    "cons_lib = pd.read_csv('./dataset/party_consv_liber.csv').iloc[:, 0:4]\n",
    "cons_lib['ideology'] = 0\n",
    "for i in range(len(cons_lib)):\n",
    "    if cons_lib.iloc[i, 1] == np.max(cons_lib.iloc[i, 1:4]):\n",
    "        cons_lib['ideology'][i] = 'Conservative'\n",
    "    elif cons_lib.iloc[i, 2] == np.max(cons_lib.iloc[i, 1:4]):\n",
    "        cons_lib['ideology'][i] = 'Moderate'\n",
    "    elif cons_lib.iloc[i, 3] == np.max(cons_lib.iloc[i, 1:4]):\n",
    "        cons_lib['ideology'][i] = 'Moderate'\n",
    "cons_lib.set_index('State', inplace=True)\n",
    "cons_lib.head()"
   ]
  },
  {
   "cell_type": "code",
   "execution_count": 6,
   "id": "f8d6a9cf",
   "metadata": {},
   "outputs": [
    {
     "data": {
      "text/plain": [
       "array(['Provider offers telemedicine',\n",
       "       'Scheduled one or more telemedicine appointments',\n",
       "       'Provider offered telemedicine prior to pandemic'], dtype=object)"
      ]
     },
     "execution_count": 6,
     "metadata": {},
     "output_type": "execute_result"
    }
   ],
   "source": [
    "df_telemedicine.Indicator.unique()"
   ]
  },
  {
   "cell_type": "code",
   "execution_count": 7,
   "id": "1d2aa3fe",
   "metadata": {},
   "outputs": [
    {
     "data": {
      "text/plain": [
       "array(['Uninsured at the Time of Interview',\n",
       "       'Public Health Insurance Coverage',\n",
       "       'Private Health Insurance Coverage'], dtype=object)"
      ]
     },
     "execution_count": 7,
     "metadata": {},
     "output_type": "execute_result"
    }
   ],
   "source": [
    "df_insurance.Indicator.unique()"
   ]
  },
  {
   "cell_type": "code",
   "execution_count": 8,
   "id": "ab538839",
   "metadata": {},
   "outputs": [
    {
     "data": {
      "text/plain": [
       "array(['Took Prescription Medication for Mental Health, Last 4 Weeks',\n",
       "       'Received Counseling or Therapy, Last 4 Weeks',\n",
       "       'Took Prescription Medication for Mental Health And/Or Received Counseling or Therapy, Last 4 Weeks',\n",
       "       'Needed Counseling or Therapy But Did Not Get It, Last 4 Weeks'],\n",
       "      dtype=object)"
      ]
     },
     "execution_count": 8,
     "metadata": {},
     "output_type": "execute_result"
    }
   ],
   "source": [
    "df_mental.Indicator.unique()"
   ]
  },
  {
   "cell_type": "code",
   "execution_count": 9,
   "id": "ddaecccd",
   "metadata": {},
   "outputs": [
    {
     "data": {
      "text/plain": [
       "array(['Symptoms of Depressive Disorder', 'Symptoms of Anxiety Disorder',\n",
       "       'Symptoms of Anxiety Disorder or Depressive Disorder'],\n",
       "      dtype=object)"
      ]
     },
     "execution_count": 9,
     "metadata": {},
     "output_type": "execute_result"
    }
   ],
   "source": [
    "df_anexiety.Indicator.unique()"
   ]
  },
  {
   "cell_type": "code",
   "execution_count": 10,
   "id": "fac922b4",
   "metadata": {},
   "outputs": [
    {
     "data": {
      "text/plain": [
       "array(['Delayed Medical Care, Last 4 Weeks',\n",
       "       'Did Not Get Needed Care, Last 4 Weeks',\n",
       "       'Delayed or Did Not Get Care, Last 4 Weeks'], dtype=object)"
      ]
     },
     "execution_count": 10,
     "metadata": {},
     "output_type": "execute_result"
    }
   ],
   "source": [
    "df_access.Indicator.unique()"
   ]
  },
  {
   "cell_type": "markdown",
   "id": "c77fdd55",
   "metadata": {},
   "source": [
    "### Health Care access"
   ]
  },
  {
   "cell_type": "code",
   "execution_count": 11,
   "id": "72b6a752",
   "metadata": {},
   "outputs": [],
   "source": [
    "Indicator = ['Delayed or Did Not Get Care, Last 4 Weeks', \n",
    "             'Delayed Medical Care, Last 4 Weeks',\n",
    "             'Did Not Get Needed Care, Last 4 Weeks']\n",
    "dataset = df_access\n",
    "L_dfs_processed = []\n",
    "\n",
    "\n",
    "for ind in Indicator:\n",
    "    L_dfs_processed.append(data_states(dataset, ind, ['1', '3.1']))\n",
    "\n",
    "\n",
    "joined_dfs = L_dfs_processed[0]\n",
    "for i in range(len(L_dfs_processed)-1):\n",
    "    joined_dfs = joined_dfs.join(L_dfs_processed[i+1])"
   ]
  },
  {
   "cell_type": "code",
   "execution_count": 12,
   "id": "e225d731",
   "metadata": {},
   "outputs": [
    {
     "data": {
      "text/html": [
       "<div>\n",
       "<style scoped>\n",
       "    .dataframe tbody tr th:only-of-type {\n",
       "        vertical-align: middle;\n",
       "    }\n",
       "\n",
       "    .dataframe tbody tr th {\n",
       "        vertical-align: top;\n",
       "    }\n",
       "\n",
       "    .dataframe thead th {\n",
       "        text-align: right;\n",
       "    }\n",
       "</style>\n",
       "<table border=\"1\" class=\"dataframe\">\n",
       "  <thead>\n",
       "    <tr style=\"text-align: right;\">\n",
       "      <th>Phase</th>\n",
       "      <th>Delayed or Did Not Get Care, Last 4 Weeks_1</th>\n",
       "      <th>Delayed or Did Not Get Care, Last 4 Weeks_3.1</th>\n",
       "      <th>Delayed Medical Care, Last 4 Weeks_1</th>\n",
       "      <th>Delayed Medical Care, Last 4 Weeks_3.1</th>\n",
       "      <th>Did Not Get Needed Care, Last 4 Weeks_1</th>\n",
       "      <th>Did Not Get Needed Care, Last 4 Weeks_3.1</th>\n",
       "    </tr>\n",
       "    <tr>\n",
       "      <th>State</th>\n",
       "      <th></th>\n",
       "      <th></th>\n",
       "      <th></th>\n",
       "      <th></th>\n",
       "      <th></th>\n",
       "      <th></th>\n",
       "    </tr>\n",
       "  </thead>\n",
       "  <tbody>\n",
       "    <tr>\n",
       "      <th>Alabama</th>\n",
       "      <td>44.350000</td>\n",
       "      <td>21.750000</td>\n",
       "      <td>39.200000</td>\n",
       "      <td>17.466667</td>\n",
       "      <td>33.400000</td>\n",
       "      <td>15.266667</td>\n",
       "    </tr>\n",
       "    <tr>\n",
       "      <th>Alaska</th>\n",
       "      <td>49.533333</td>\n",
       "      <td>22.850000</td>\n",
       "      <td>45.708333</td>\n",
       "      <td>19.550000</td>\n",
       "      <td>36.091667</td>\n",
       "      <td>15.283333</td>\n",
       "    </tr>\n",
       "    <tr>\n",
       "      <th>Arizona</th>\n",
       "      <td>45.900000</td>\n",
       "      <td>21.883333</td>\n",
       "      <td>41.016667</td>\n",
       "      <td>18.666667</td>\n",
       "      <td>34.241667</td>\n",
       "      <td>15.050000</td>\n",
       "    </tr>\n",
       "    <tr>\n",
       "      <th>Arkansas</th>\n",
       "      <td>44.850000</td>\n",
       "      <td>17.566667</td>\n",
       "      <td>40.575000</td>\n",
       "      <td>13.583333</td>\n",
       "      <td>33.841667</td>\n",
       "      <td>12.966667</td>\n",
       "    </tr>\n",
       "    <tr>\n",
       "      <th>California</th>\n",
       "      <td>45.741667</td>\n",
       "      <td>27.316667</td>\n",
       "      <td>41.116667</td>\n",
       "      <td>22.883333</td>\n",
       "      <td>33.058333</td>\n",
       "      <td>18.266667</td>\n",
       "    </tr>\n",
       "  </tbody>\n",
       "</table>\n",
       "</div>"
      ],
      "text/plain": [
       "Phase       Delayed or Did Not Get Care, Last 4 Weeks_1  \\\n",
       "State                                                     \n",
       "Alabama                                       44.350000   \n",
       "Alaska                                        49.533333   \n",
       "Arizona                                       45.900000   \n",
       "Arkansas                                      44.850000   \n",
       "California                                    45.741667   \n",
       "\n",
       "Phase       Delayed or Did Not Get Care, Last 4 Weeks_3.1  \\\n",
       "State                                                       \n",
       "Alabama                                         21.750000   \n",
       "Alaska                                          22.850000   \n",
       "Arizona                                         21.883333   \n",
       "Arkansas                                        17.566667   \n",
       "California                                      27.316667   \n",
       "\n",
       "Phase       Delayed Medical Care, Last 4 Weeks_1  \\\n",
       "State                                              \n",
       "Alabama                                39.200000   \n",
       "Alaska                                 45.708333   \n",
       "Arizona                                41.016667   \n",
       "Arkansas                               40.575000   \n",
       "California                             41.116667   \n",
       "\n",
       "Phase       Delayed Medical Care, Last 4 Weeks_3.1  \\\n",
       "State                                                \n",
       "Alabama                                  17.466667   \n",
       "Alaska                                   19.550000   \n",
       "Arizona                                  18.666667   \n",
       "Arkansas                                 13.583333   \n",
       "California                               22.883333   \n",
       "\n",
       "Phase       Did Not Get Needed Care, Last 4 Weeks_1  \\\n",
       "State                                                 \n",
       "Alabama                                   33.400000   \n",
       "Alaska                                    36.091667   \n",
       "Arizona                                   34.241667   \n",
       "Arkansas                                  33.841667   \n",
       "California                                33.058333   \n",
       "\n",
       "Phase       Did Not Get Needed Care, Last 4 Weeks_3.1  \n",
       "State                                                  \n",
       "Alabama                                     15.266667  \n",
       "Alaska                                      15.283333  \n",
       "Arizona                                     15.050000  \n",
       "Arkansas                                    12.966667  \n",
       "California                                  18.266667  "
      ]
     },
     "execution_count": 12,
     "metadata": {},
     "output_type": "execute_result"
    }
   ],
   "source": [
    "joined_dfs.head()"
   ]
  },
  {
   "cell_type": "code",
   "execution_count": 16,
   "id": "be9ea04c",
   "metadata": {},
   "outputs": [
    {
     "data": {
      "image/png": "[encoded data removed]",
      "text/plain": [
       "<Figure size 432x288 with 1 Axes>"
      ]
     },
     "metadata": {
      "needs_background": "light"
     },
     "output_type": "display_data"
    }
   ],
   "source": [
    "np.random.seed(42)\n",
    "df_standardized = (joined_dfs - joined_dfs.mean())/np.std(joined_dfs)\n",
    "u, s, vt = np.linalg.svd(df_standardized, full_matrices=False)\n",
    "np.round(s**2 / sum(s**2), 2)\n",
    "pcs = u * s\n",
    "\n",
    "first_2_pcs = pd.DataFrame( {\n",
    "    'pc1' : pcs[:, 0],\n",
    "    'pc2' : pcs[:, 1]})\n",
    "\n",
    "sns.scatterplot(data = first_2_pcs, x = \"pc1\", y = \"pc2\");"
   ]
  },
  {
   "cell_type": "code",
   "execution_count": 17,
   "id": "263f96aa",
   "metadata": {},
   "outputs": [
    {
     "data": {
      "application/vnd.plotly.v1+json": {
       "config": {
        "plotlyServerURL": "https://plot.ly"
       },
       "data": [
        {
         "customdata": [
          [
           "Alabama"
          ],
          [
           "Arizona"
          ],
          [
           "Arkansas"
          ],
          [
           "Florida"
          ],
          [
           "Georgia"
          ],
          [
           "Idaho"
          ],
          [
           "Indiana"
          ],
          [
           "Iowa"
          ],
          [
           "Kansas"
          ],
          [
           "Kentucky"
          ],
          [
           "Louisiana"
          ],
          [
           "Maine"
          ],
          [
           "Michigan"
          ],
          [
           "Minnesota"
          ],
          [
           "Mississippi"
          ],
          [
           "Missouri"
          ],
          [
           "Montana"
          ],
          [
           "Nebraska"
          ],
          [
           "New Hampshire"
          ],
          [
           "North Carolina"
          ],
          [
           "North Dakota"
          ],
          [
           "Ohio"
          ],
          [
           "Oklahoma"
          ],
          [
           "Pennsylvania"
          ],
          [
           "South Carolina"
          ],
          [
           "South Dakota"
          ],
          [
           "Tennessee"
          ],
          [
           "Texas"
          ],
          [
           "Utah"
          ],
          [
           "Virginia"
          ],
          [
           "West Virginia"
          ],
          [
           "Wisconsin"
          ],
          [
           "Wyoming"
          ]
         ],
         "hovertemplate": "ideology=Conservative<br>pc1=%{x}<br>pc2=%{y}<br>state=%{customdata[0]}<extra></extra>",
         "legendgroup": "Conservative",
         "marker": {
          "color": "#636efa",
          "symbol": "circle"
         },
         "mode": "markers",
         "name": "Conservative",
         "orientation": "v",
         "showlegend": true,
         "type": "scatter",
         "x": [
          0.7300010135393694,
          1.540706752046421,
          -0.5516767906246622,
          -0.11937305893481044,
          0.5941919264820211,
          -3.2380405691893963,
          -0.4186888361881271,
          -3.800189358113625,
          -2.6412695403005446,
          0.47672557752638994,
          0.48839210962825874,
          1.531148148012796,
          1.775245733958184,
          -1.098650262174541,
          0.2818093864457015,
          -1.6219386576847983,
          -0.22706222736709455,
          -3.4419579964430955,
          -1.069079934462537,
          -0.8925591662056288,
          -4.286240951802531,
          -0.9030244820220595,
          0.07690043449138867,
          0.06278737215453879,
          -1.9985625256393105,
          -3.6711980423629287,
          -0.6388714774199611,
          0.43761139234899477,
          -3.493682478577499,
          0.78876387063051,
          0.3955104505967628,
          -2.214544095135394,
          -2.4474363429257626
         ],
         "xaxis": "x",
         "y": [
          0.7383802285211293,
          0.23136113971819644,
          -1.2509307665314586,
          -0.010632969697094574,
          -0.28839141747455016,
          0.322449972345629,
          -1.5994288856720162,
          -0.015320562923196787,
          0.6071888303117041,
          0.11860221208197343,
          -0.7160362242776817,
          -2.5514699641207943,
          -0.9274086671274425,
          -0.5889152132602395,
          -1.5044163901534902,
          -0.48251715614951163,
          -0.6575540613913374,
          0.9207047438077525,
          -1.0293761406903017,
          1.2698562799027915,
          1.9638049453739974,
          -0.2857850497313737,
          1.1336787038225076,
          -0.46205675535051427,
          -0.6777054249573998,
          0.11842253801938167,
          0.2780217288856894,
          1.6404685609514427,
          0.16537989002491038,
          -0.7579054164531219,
          -0.06575017129281582,
          -1.3830159537634612,
          -1.3702931553510433
         ],
         "yaxis": "y"
        },
        {
         "customdata": [
          [
           "Alaska"
          ],
          [
           "California"
          ],
          [
           "Colorado"
          ],
          [
           "Connecticut"
          ],
          [
           "Delaware"
          ],
          [
           "District of Columbia"
          ],
          [
           "Hawaii"
          ],
          [
           "Illinois"
          ],
          [
           "Maryland"
          ],
          [
           "Massachusetts"
          ],
          [
           "Nevada"
          ],
          [
           "New Jersey"
          ],
          [
           "New Mexico"
          ],
          [
           "New York"
          ],
          [
           "Oregon"
          ],
          [
           "Rhode Island"
          ],
          [
           "Vermont"
          ],
          [
           "Washington"
          ]
         ],
         "hovertemplate": "ideology=Moderate<br>pc1=%{x}<br>pc2=%{y}<br>state=%{customdata[0]}<extra></extra>",
         "legendgroup": "Moderate",
         "marker": {
          "color": "#EF553B",
          "symbol": "circle"
         },
         "mode": "markers",
         "name": "Moderate",
         "orientation": "v",
         "showlegend": true,
         "type": "scatter",
         "x": [
          3.451492737882199,
          3.411903327601073,
          0.4011297645465524,
          -0.07635714783770689,
          1.1328813584439001,
          2.9941527629842803,
          -2.1420477002602,
          0.851323296175063,
          0.9477048830505974,
          0.9915972795072999,
          1.0529728215458187,
          2.7438905038306585,
          4.749737489348588,
          0.8435143078319598,
          4.718744878229025,
          -0.4940077029241127,
          0.7666000496495832,
          3.2490197161083874
         ],
         "xaxis": "x",
         "y": [
          -1.051694632267932,
          2.469663449963692,
          -0.1009268411908481,
          -1.1580365945776419,
          1.6320114352933721,
          1.3365710206836536,
          2.3862210102481436,
          -1.051441540576632,
          0.5937429564502702,
          0.46793153303292184,
          0.37335757999165703,
          -0.7302661129437025,
          1.3986240792347058,
          0.5434813340591728,
          0.21540883207080383,
          1.4285450421938426,
          -1.4600526076242364,
          -0.17654937143948782
         ],
         "yaxis": "y"
        }
       ],
       "layout": {
        "legend": {
         "title": {
          "text": "ideology"
         },
         "tracegroupgap": 0
        },
        "margin": {
         "t": 60
        },
        "template": {
         "data": {
          "bar": [
           {
            "error_x": {
             "color": "#2a3f5f"
            },
            "error_y": {
             "color": "#2a3f5f"
            },
            "marker": {
             "line": {
              "color": "#E5ECF6",
              "width": 0.5
             },
             "pattern": {
              "fillmode": "overlay",
              "size": 10,
              "solidity": 0.2
             }
            },
            "type": "bar"
           }
          ],
          "barpolar": [
           {
            "marker": {
             "line": {
              "color": "#E5ECF6",
              "width": 0.5
             },
             "pattern": {
              "fillmode": "overlay",
              "size": 10,
              "solidity": 0.2
             }
            },
            "type": "barpolar"
           }
          ],
          "carpet": [
           {
            "aaxis": {
             "endlinecolor": "#2a3f5f",
             "gridcolor": "white",
             "linecolor": "white",
             "minorgridcolor": "white",
             "startlinecolor": "#2a3f5f"
            },
            "baxis": {
             "endlinecolor": "#2a3f5f",
             "gridcolor": "white",
             "linecolor": "white",
             "minorgridcolor": "white",
             "startlinecolor": "#2a3f5f"
            },
            "type": "carpet"
           }
          ],
          "choropleth": [
           {
            "colorbar": {
             "outlinewidth": 0,
             "ticks": ""
            },
            "type": "choropleth"
           }
          ],
          "contour": [
           {
            "colorbar": {
             "outlinewidth": 0,
             "ticks": ""
            },
            "colorscale": [
             [
              0,
              "#0d0887"
             ],
             [
              0.1111111111111111,
              "#46039f"
             ],
             [
              0.2222222222222222,
              "#7201a8"
             ],
             [
              0.3333333333333333,
              "#9c179e"
             ],
             [
              0.4444444444444444,
              "#bd3786"
             ],
             [
              0.5555555555555556,
              "#d8576b"
             ],
             [
              0.6666666666666666,
              "#ed7953"
             ],
             [
              0.7777777777777778,
              "#fb9f3a"
             ],
             [
              0.8888888888888888,
              "#fdca26"
             ],
             [
              1,
              "#f0f921"
             ]
            ],
            "type": "contour"
           }
          ],
          "contourcarpet": [
           {
            "colorbar": {
             "outlinewidth": 0,
             "ticks": ""
            },
            "type": "contourcarpet"
           }
          ],
          "heatmap": [
           {
            "colorbar": {
             "outlinewidth": 0,
             "ticks": ""
            },
            "colorscale": [
             [
              0,
              "#0d0887"
             ],
             [
              0.1111111111111111,
              "#46039f"
             ],
             [
              0.2222222222222222,
              "#7201a8"
             ],
             [
              0.3333333333333333,
              "#9c179e"
             ],
             [
              0.4444444444444444,
              "#bd3786"
             ],
             [
              0.5555555555555556,
              "#d8576b"
             ],
             [
              0.6666666666666666,
              "#ed7953"
             ],
             [
              0.7777777777777778,
              "#fb9f3a"
             ],
             [
              0.8888888888888888,
              "#fdca26"
             ],
             [
              1,
              "#f0f921"
             ]
            ],
            "type": "heatmap"
           }
          ],
          "heatmapgl": [
           {
            "colorbar": {
             "outlinewidth": 0,
             "ticks": ""
            },
            "colorscale": [
             [
              0,
              "#0d0887"
             ],
             [
              0.1111111111111111,
              "#46039f"
             ],
             [
              0.2222222222222222,
              "#7201a8"
             ],
             [
              0.3333333333333333,
              "#9c179e"
             ],
             [
              0.4444444444444444,
              "#bd3786"
             ],
             [
              0.5555555555555556,
              "#d8576b"
             ],
             [
              0.6666666666666666,
              "#ed7953"
             ],
             [
              0.7777777777777778,
              "#fb9f3a"
             ],
             [
              0.8888888888888888,
              "#fdca26"
             ],
             [
              1,
              "#f0f921"
             ]
            ],
            "type": "heatmapgl"
           }
          ],
          "histogram": [
           {
            "marker": {
             "pattern": {
              "fillmode": "overlay",
              "size": 10,
              "solidity": 0.2
             }
            },
            "type": "histogram"
           }
          ],
          "histogram2d": [
           {
            "colorbar": {
             "outlinewidth": 0,
             "ticks": ""
            },
            "colorscale": [
             [
              0,
              "#0d0887"
             ],
             [
              0.1111111111111111,
              "#46039f"
             ],
             [
              0.2222222222222222,
              "#7201a8"
             ],
             [
              0.3333333333333333,
              "#9c179e"
             ],
             [
              0.4444444444444444,
              "#bd3786"
             ],
             [
              0.5555555555555556,
              "#d8576b"
             ],
             [
              0.6666666666666666,
              "#ed7953"
             ],
             [
              0.7777777777777778,
              "#fb9f3a"
             ],
             [
              0.8888888888888888,
              "#fdca26"
             ],
             [
              1,
              "#f0f921"
             ]
            ],
            "type": "histogram2d"
           }
          ],
          "histogram2dcontour": [
           {
            "colorbar": {
             "outlinewidth": 0,
             "ticks": ""
            },
            "colorscale": [
             [
              0,
              "#0d0887"
             ],
             [
              0.1111111111111111,
              "#46039f"
             ],
             [
              0.2222222222222222,
              "#7201a8"
             ],
             [
              0.3333333333333333,
              "#9c179e"
             ],
             [
              0.4444444444444444,
              "#bd3786"
             ],
             [
              0.5555555555555556,
              "#d8576b"
             ],
             [
              0.6666666666666666,
              "#ed7953"
             ],
             [
              0.7777777777777778,
              "#fb9f3a"
             ],
             [
              0.8888888888888888,
              "#fdca26"
             ],
             [
              1,
              "#f0f921"
             ]
            ],
            "type": "histogram2dcontour"
           }
          ],
          "mesh3d": [
           {
            "colorbar": {
             "outlinewidth": 0,
             "ticks": ""
            },
            "type": "mesh3d"
           }
          ],
          "parcoords": [
           {
            "line": {
             "colorbar": {
              "outlinewidth": 0,
              "ticks": ""
             }
            },
            "type": "parcoords"
           }
          ],
          "pie": [
           {
            "automargin": true,
            "type": "pie"
           }
          ],
          "scatter": [
           {
            "fillpattern": {
             "fillmode": "overlay",
             "size": 10,
             "solidity": 0.2
            },
            "type": "scatter"
           }
          ],
          "scatter3d": [
           {
            "line": {
             "colorbar": {
              "outlinewidth": 0,
              "ticks": ""
             }
            },
            "marker": {
             "colorbar": {
              "outlinewidth": 0,
              "ticks": ""
             }
            },
            "type": "scatter3d"
           }
          ],
          "scattercarpet": [
           {
            "marker": {
             "colorbar": {
              "outlinewidth": 0,
              "ticks": ""
             }
            },
            "type": "scattercarpet"
           }
          ],
          "scattergeo": [
           {
            "marker": {
             "colorbar": {
              "outlinewidth": 0,
              "ticks": ""
             }
            },
            "type": "scattergeo"
           }
          ],
          "scattergl": [
           {
            "marker": {
             "colorbar": {
              "outlinewidth": 0,
              "ticks": ""
             }
            },
            "type": "scattergl"
           }
          ],
          "scattermapbox": [
           {
            "marker": {
             "colorbar": {
              "outlinewidth": 0,
              "ticks": ""
             }
            },
            "type": "scattermapbox"
           }
          ],
          "scatterpolar": [
           {
            "marker": {
             "colorbar": {
              "outlinewidth": 0,
              "ticks": ""
             }
            },
            "type": "scatterpolar"
           }
          ],
          "scatterpolargl": [
           {
            "marker": {
             "colorbar": {
              "outlinewidth": 0,
              "ticks": ""
             }
            },
            "type": "scatterpolargl"
           }
          ],
          "scatterternary": [
           {
            "marker": {
             "colorbar": {
              "outlinewidth": 0,
              "ticks": ""
             }
            },
            "type": "scatterternary"
           }
          ],
          "surface": [
           {
            "colorbar": {
             "outlinewidth": 0,
             "ticks": ""
            },
            "colorscale": [
             [
              0,
              "#0d0887"
             ],
             [
              0.1111111111111111,
              "#46039f"
             ],
             [
              0.2222222222222222,
              "#7201a8"
             ],
             [
              0.3333333333333333,
              "#9c179e"
             ],
             [
              0.4444444444444444,
              "#bd3786"
             ],
             [
              0.5555555555555556,
              "#d8576b"
             ],
             [
              0.6666666666666666,
              "#ed7953"
             ],
             [
              0.7777777777777778,
              "#fb9f3a"
             ],
             [
              0.8888888888888888,
              "#fdca26"
             ],
             [
              1,
              "#f0f921"
             ]
            ],
            "type": "surface"
           }
          ],
          "table": [
           {
            "cells": {
             "fill": {
              "color": "#EBF0F8"
             },
             "line": {
              "color": "white"
             }
            },
            "header": {
             "fill": {
              "color": "#C8D4E3"
             },
             "line": {
              "color": "white"
             }
            },
            "type": "table"
           }
          ]
         },
         "layout": {
          "annotationdefaults": {
           "arrowcolor": "#2a3f5f",
           "arrowhead": 0,
           "arrowwidth": 1
          },
          "autotypenumbers": "strict",
          "coloraxis": {
           "colorbar": {
            "outlinewidth": 0,
            "ticks": ""
           }
          },
          "colorscale": {
           "diverging": [
            [
             0,
             "#8e0152"
            ],
            [
             0.1,
             "#c51b7d"
            ],
            [
             0.2,
             "#de77ae"
            ],
            [
             0.3,
             "#f1b6da"
            ],
            [
             0.4,
             "#fde0ef"
            ],
            [
             0.5,
             "#f7f7f7"
            ],
            [
             0.6,
             "#e6f5d0"
            ],
            [
             0.7,
             "#b8e186"
            ],
            [
             0.8,
             "#7fbc41"
            ],
            [
             0.9,
             "#4d9221"
            ],
            [
             1,
             "#276419"
            ]
           ],
           "sequential": [
            [
             0,
             "#0d0887"
            ],
            [
             0.1111111111111111,
             "#46039f"
            ],
            [
             0.2222222222222222,
             "#7201a8"
            ],
            [
             0.3333333333333333,
             "#9c179e"
            ],
            [
             0.4444444444444444,
             "#bd3786"
            ],
            [
             0.5555555555555556,
             "#d8576b"
            ],
            [
             0.6666666666666666,
             "#ed7953"
            ],
            [
             0.7777777777777778,
             "#fb9f3a"
            ],
            [
             0.8888888888888888,
             "#fdca26"
            ],
            [
             1,
             "#f0f921"
            ]
           ],
           "sequentialminus": [
            [
             0,
             "#0d0887"
            ],
            [
             0.1111111111111111,
             "#46039f"
            ],
            [
             0.2222222222222222,
             "#7201a8"
            ],
            [
             0.3333333333333333,
             "#9c179e"
            ],
            [
             0.4444444444444444,
             "#bd3786"
            ],
            [
             0.5555555555555556,
             "#d8576b"
            ],
            [
             0.6666666666666666,
             "#ed7953"
            ],
            [
             0.7777777777777778,
             "#fb9f3a"
            ],
            [
             0.8888888888888888,
             "#fdca26"
            ],
            [
             1,
             "#f0f921"
            ]
           ]
          },
          "colorway": [
           "#636efa",
           "#EF553B",
           "#00cc96",
           "#ab63fa",
           "#FFA15A",
           "#19d3f3",
           "#FF6692",
           "#B6E880",
           "#FF97FF",
           "#FECB52"
          ],
          "font": {
           "color": "#2a3f5f"
          },
          "geo": {
           "bgcolor": "white",
           "lakecolor": "white",
           "landcolor": "#E5ECF6",
           "showlakes": true,
           "showland": true,
           "subunitcolor": "white"
          },
          "hoverlabel": {
           "align": "left"
          },
          "hovermode": "closest",
          "mapbox": {
           "style": "light"
          },
          "paper_bgcolor": "white",
          "plot_bgcolor": "#E5ECF6",
          "polar": {
           "angularaxis": {
            "gridcolor": "white",
            "linecolor": "white",
            "ticks": ""
           },
           "bgcolor": "#E5ECF6",
           "radialaxis": {
            "gridcolor": "white",
            "linecolor": "white",
            "ticks": ""
           }
          },
          "scene": {
           "xaxis": {
            "backgroundcolor": "#E5ECF6",
            "gridcolor": "white",
            "gridwidth": 2,
            "linecolor": "white",
            "showbackground": true,
            "ticks": "",
            "zerolinecolor": "white"
           },
           "yaxis": {
            "backgroundcolor": "#E5ECF6",
            "gridcolor": "white",
            "gridwidth": 2,
            "linecolor": "white",
            "showbackground": true,
            "ticks": "",
            "zerolinecolor": "white"
           },
           "zaxis": {
            "backgroundcolor": "#E5ECF6",
            "gridcolor": "white",
            "gridwidth": 2,
            "linecolor": "white",
            "showbackground": true,
            "ticks": "",
            "zerolinecolor": "white"
           }
          },
          "shapedefaults": {
           "line": {
            "color": "#2a3f5f"
           }
          },
          "ternary": {
           "aaxis": {
            "gridcolor": "white",
            "linecolor": "white",
            "ticks": ""
           },
           "baxis": {
            "gridcolor": "white",
            "linecolor": "white",
            "ticks": ""
           },
           "bgcolor": "#E5ECF6",
           "caxis": {
            "gridcolor": "white",
            "linecolor": "white",
            "ticks": ""
           }
          },
          "title": {
           "x": 0.05
          },
          "xaxis": {
           "automargin": true,
           "gridcolor": "white",
           "linecolor": "white",
           "ticks": "",
           "title": {
            "standoff": 15
           },
           "zerolinecolor": "white",
           "zerolinewidth": 2
          },
          "yaxis": {
           "automargin": true,
           "gridcolor": "white",
           "linecolor": "white",
           "ticks": "",
           "title": {
            "standoff": 15
           },
           "zerolinecolor": "white",
           "zerolinewidth": 2
          }
         }
        },
        "xaxis": {
         "anchor": "y",
         "domain": [
          0,
          1
         ],
         "title": {
          "text": "pc1"
         }
        },
        "yaxis": {
         "anchor": "x",
         "domain": [
          0,
          1
         ],
         "title": {
          "text": "pc2"
         }
        }
       }
      },
      "text/html": [
       "<div>                            <div id=\"2dca31c2-c2da-4e1d-8633-91e1d886dae0\" class=\"plotly-graph-div\" style=\"height:525px; width:100%;\"></div>            <script type=\"text/javascript\">                require([\"plotly\"], function(Plotly) {                    window.PLOTLYENV=window.PLOTLYENV || {};                                    if (document.getElementById(\"2dca31c2-c2da-4e1d-8633-91e1d886dae0\")) {                    Plotly.newPlot(                        \"2dca31c2-c2da-4e1d-8633-91e1d886dae0\",                        [{\"customdata\":[[\"Alabama\"],[\"Arizona\"],[\"Arkansas\"],[\"Florida\"],[\"Georgia\"],[\"Idaho\"],[\"Indiana\"],[\"Iowa\"],[\"Kansas\"],[\"Kentucky\"],[\"Louisiana\"],[\"Maine\"],[\"Michigan\"],[\"Minnesota\"],[\"Mississippi\"],[\"Missouri\"],[\"Montana\"],[\"Nebraska\"],[\"New Hampshire\"],[\"North Carolina\"],[\"North Dakota\"],[\"Ohio\"],[\"Oklahoma\"],[\"Pennsylvania\"],[\"South Carolina\"],[\"South Dakota\"],[\"Tennessee\"],[\"Texas\"],[\"Utah\"],[\"Virginia\"],[\"West Virginia\"],[\"Wisconsin\"],[\"Wyoming\"]],\"hovertemplate\":\"ideology=Conservative<br>pc1=%{x}<br>pc2=%{y}<br>state=%{customdata[0]}<extra></extra>\",\"legendgroup\":\"Conservative\",\"marker\":{\"color\":\"#636efa\",\"symbol\":\"circle\"},\"mode\":\"markers\",\"name\":\"Conservative\",\"orientation\":\"v\",\"showlegend\":true,\"x\":[0.7300010135393694,1.540706752046421,-0.5516767906246622,-0.11937305893481044,0.5941919264820211,-3.2380405691893963,-0.4186888361881271,-3.800189358113625,-2.6412695403005446,0.47672557752638994,0.48839210962825874,1.531148148012796,1.775245733958184,-1.098650262174541,0.2818093864457015,-1.6219386576847983,-0.22706222736709455,-3.4419579964430955,-1.069079934462537,-0.8925591662056288,-4.286240951802531,-0.9030244820220595,0.07690043449138867,0.06278737215453879,-1.9985625256393105,-3.6711980423629287,-0.6388714774199611,0.43761139234899477,-3.493682478577499,0.78876387063051,0.3955104505967628,-2.214544095135394,-2.4474363429257626],\"xaxis\":\"x\",\"y\":[0.7383802285211293,0.23136113971819644,-1.2509307665314586,-0.010632969697094574,-0.28839141747455016,0.322449972345629,-1.5994288856720162,-0.015320562923196787,0.6071888303117041,0.11860221208197343,-0.7160362242776817,-2.5514699641207943,-0.9274086671274425,-0.5889152132602395,-1.5044163901534902,-0.48251715614951163,-0.6575540613913374,0.9207047438077525,-1.0293761406903017,1.2698562799027915,1.9638049453739974,-0.2857850497313737,1.1336787038225076,-0.46205675535051427,-0.6777054249573998,0.11842253801938167,0.2780217288856894,1.6404685609514427,0.16537989002491038,-0.7579054164531219,-0.06575017129281582,-1.3830159537634612,-1.3702931553510433],\"yaxis\":\"y\",\"type\":\"scatter\"},{\"customdata\":[[\"Alaska\"],[\"California\"],[\"Colorado\"],[\"Connecticut\"],[\"Delaware\"],[\"District of Columbia\"],[\"Hawaii\"],[\"Illinois\"],[\"Maryland\"],[\"Massachusetts\"],[\"Nevada\"],[\"New Jersey\"],[\"New Mexico\"],[\"New York\"],[\"Oregon\"],[\"Rhode Island\"],[\"Vermont\"],[\"Washington\"]],\"hovertemplate\":\"ideology=Moderate<br>pc1=%{x}<br>pc2=%{y}<br>state=%{customdata[0]}<extra></extra>\",\"legendgroup\":\"Moderate\",\"marker\":{\"color\":\"#EF553B\",\"symbol\":\"circle\"},\"mode\":\"markers\",\"name\":\"Moderate\",\"orientation\":\"v\",\"showlegend\":true,\"x\":[3.451492737882199,3.411903327601073,0.4011297645465524,-0.07635714783770689,1.1328813584439001,2.9941527629842803,-2.1420477002602,0.851323296175063,0.9477048830505974,0.9915972795072999,1.0529728215458187,2.7438905038306585,4.749737489348588,0.8435143078319598,4.718744878229025,-0.4940077029241127,0.7666000496495832,3.2490197161083874],\"xaxis\":\"x\",\"y\":[-1.051694632267932,2.469663449963692,-0.1009268411908481,-1.1580365945776419,1.6320114352933721,1.3365710206836536,2.3862210102481436,-1.051441540576632,0.5937429564502702,0.46793153303292184,0.37335757999165703,-0.7302661129437025,1.3986240792347058,0.5434813340591728,0.21540883207080383,1.4285450421938426,-1.4600526076242364,-0.17654937143948782],\"yaxis\":\"y\",\"type\":\"scatter\"}],                        {\"template\":{\"data\":{\"histogram2dcontour\":[{\"type\":\"histogram2dcontour\",\"colorbar\":{\"outlinewidth\":0,\"ticks\":\"\"},\"colorscale\":[[0.0,\"#0d0887\"],[0.1111111111111111,\"#46039f\"],[0.2222222222222222,\"#7201a8\"],[0.3333333333333333,\"#9c179e\"],[0.4444444444444444,\"#bd3786\"],[0.5555555555555556,\"#d8576b\"],[0.6666666666666666,\"#ed7953\"],[0.7777777777777778,\"#fb9f3a\"],[0.8888888888888888,\"#fdca26\"],[1.0,\"#f0f921\"]]}],\"choropleth\":[{\"type\":\"choropleth\",\"colorbar\":{\"outlinewidth\":0,\"ticks\":\"\"}}],\"histogram2d\":[{\"type\":\"histogram2d\",\"colorbar\":{\"outlinewidth\":0,\"ticks\":\"\"},\"colorscale\":[[0.0,\"#0d0887\"],[0.1111111111111111,\"#46039f\"],[0.2222222222222222,\"#7201a8\"],[0.3333333333333333,\"#9c179e\"],[0.4444444444444444,\"#bd3786\"],[0.5555555555555556,\"#d8576b\"],[0.6666666666666666,\"#ed7953\"],[0.7777777777777778,\"#fb9f3a\"],[0.8888888888888888,\"#fdca26\"],[1.0,\"#f0f921\"]]}],\"heatmap\":[{\"type\":\"heatmap\",\"colorbar\":{\"outlinewidth\":0,\"ticks\":\"\"},\"colorscale\":[[0.0,\"#0d0887\"],[0.1111111111111111,\"#46039f\"],[0.2222222222222222,\"#7201a8\"],[0.3333333333333333,\"#9c179e\"],[0.4444444444444444,\"#bd3786\"],[0.5555555555555556,\"#d8576b\"],[0.6666666666666666,\"#ed7953\"],[0.7777777777777778,\"#fb9f3a\"],[0.8888888888888888,\"#fdca26\"],[1.0,\"#f0f921\"]]}],\"heatmapgl\":[{\"type\":\"heatmapgl\",\"colorbar\":{\"outlinewidth\":0,\"ticks\":\"\"},\"colorscale\":[[0.0,\"#0d0887\"],[0.1111111111111111,\"#46039f\"],[0.2222222222222222,\"#7201a8\"],[0.3333333333333333,\"#9c179e\"],[0.4444444444444444,\"#bd3786\"],[0.5555555555555556,\"#d8576b\"],[0.6666666666666666,\"#ed7953\"],[0.7777777777777778,\"#fb9f3a\"],[0.8888888888888888,\"#fdca26\"],[1.0,\"#f0f921\"]]}],\"contourcarpet\":[{\"type\":\"contourcarpet\",\"colorbar\":{\"outlinewidth\":0,\"ticks\":\"\"}}],\"contour\":[{\"type\":\"contour\",\"colorbar\":{\"outlinewidth\":0,\"ticks\":\"\"},\"colorscale\":[[0.0,\"#0d0887\"],[0.1111111111111111,\"#46039f\"],[0.2222222222222222,\"#7201a8\"],[0.3333333333333333,\"#9c179e\"],[0.4444444444444444,\"#bd3786\"],[0.5555555555555556,\"#d8576b\"],[0.6666666666666666,\"#ed7953\"],[0.7777777777777778,\"#fb9f3a\"],[0.8888888888888888,\"#fdca26\"],[1.0,\"#f0f921\"]]}],\"surface\":[{\"type\":\"surface\",\"colorbar\":{\"outlinewidth\":0,\"ticks\":\"\"},\"colorscale\":[[0.0,\"#0d0887\"],[0.1111111111111111,\"#46039f\"],[0.2222222222222222,\"#7201a8\"],[0.3333333333333333,\"#9c179e\"],[0.4444444444444444,\"#bd3786\"],[0.5555555555555556,\"#d8576b\"],[0.6666666666666666,\"#ed7953\"],[0.7777777777777778,\"#fb9f3a\"],[0.8888888888888888,\"#fdca26\"],[1.0,\"#f0f921\"]]}],\"mesh3d\":[{\"type\":\"mesh3d\",\"colorbar\":{\"outlinewidth\":0,\"ticks\":\"\"}}],\"scatter\":[{\"fillpattern\":{\"fillmode\":\"overlay\",\"size\":10,\"solidity\":0.2},\"type\":\"scatter\"}],\"parcoords\":[{\"type\":\"parcoords\",\"line\":{\"colorbar\":{\"outlinewidth\":0,\"ticks\":\"\"}}}],\"scatterpolargl\":[{\"type\":\"scatterpolargl\",\"marker\":{\"colorbar\":{\"outlinewidth\":0,\"ticks\":\"\"}}}],\"bar\":[{\"error_x\":{\"color\":\"#2a3f5f\"},\"error_y\":{\"color\":\"#2a3f5f\"},\"marker\":{\"line\":{\"color\":\"#E5ECF6\",\"width\":0.5},\"pattern\":{\"fillmode\":\"overlay\",\"size\":10,\"solidity\":0.2}},\"type\":\"bar\"}],\"scattergeo\":[{\"type\":\"scattergeo\",\"marker\":{\"colorbar\":{\"outlinewidth\":0,\"ticks\":\"\"}}}],\"scatterpolar\":[{\"type\":\"scatterpolar\",\"marker\":{\"colorbar\":{\"outlinewidth\":0,\"ticks\":\"\"}}}],\"histogram\":[{\"marker\":{\"pattern\":{\"fillmode\":\"overlay\",\"size\":10,\"solidity\":0.2}},\"type\":\"histogram\"}],\"scattergl\":[{\"type\":\"scattergl\",\"marker\":{\"colorbar\":{\"outlinewidth\":0,\"ticks\":\"\"}}}],\"scatter3d\":[{\"type\":\"scatter3d\",\"line\":{\"colorbar\":{\"outlinewidth\":0,\"ticks\":\"\"}},\"marker\":{\"colorbar\":{\"outlinewidth\":0,\"ticks\":\"\"}}}],\"scattermapbox\":[{\"type\":\"scattermapbox\",\"marker\":{\"colorbar\":{\"outlinewidth\":0,\"ticks\":\"\"}}}],\"scatterternary\":[{\"type\":\"scatterternary\",\"marker\":{\"colorbar\":{\"outlinewidth\":0,\"ticks\":\"\"}}}],\"scattercarpet\":[{\"type\":\"scattercarpet\",\"marker\":{\"colorbar\":{\"outlinewidth\":0,\"ticks\":\"\"}}}],\"carpet\":[{\"aaxis\":{\"endlinecolor\":\"#2a3f5f\",\"gridcolor\":\"white\",\"linecolor\":\"white\",\"minorgridcolor\":\"white\",\"startlinecolor\":\"#2a3f5f\"},\"baxis\":{\"endlinecolor\":\"#2a3f5f\",\"gridcolor\":\"white\",\"linecolor\":\"white\",\"minorgridcolor\":\"white\",\"startlinecolor\":\"#2a3f5f\"},\"type\":\"carpet\"}],\"table\":[{\"cells\":{\"fill\":{\"color\":\"#EBF0F8\"},\"line\":{\"color\":\"white\"}},\"header\":{\"fill\":{\"color\":\"#C8D4E3\"},\"line\":{\"color\":\"white\"}},\"type\":\"table\"}],\"barpolar\":[{\"marker\":{\"line\":{\"color\":\"#E5ECF6\",\"width\":0.5},\"pattern\":{\"fillmode\":\"overlay\",\"size\":10,\"solidity\":0.2}},\"type\":\"barpolar\"}],\"pie\":[{\"automargin\":true,\"type\":\"pie\"}]},\"layout\":{\"autotypenumbers\":\"strict\",\"colorway\":[\"#636efa\",\"#EF553B\",\"#00cc96\",\"#ab63fa\",\"#FFA15A\",\"#19d3f3\",\"#FF6692\",\"#B6E880\",\"#FF97FF\",\"#FECB52\"],\"font\":{\"color\":\"#2a3f5f\"},\"hovermode\":\"closest\",\"hoverlabel\":{\"align\":\"left\"},\"paper_bgcolor\":\"white\",\"plot_bgcolor\":\"#E5ECF6\",\"polar\":{\"bgcolor\":\"#E5ECF6\",\"angularaxis\":{\"gridcolor\":\"white\",\"linecolor\":\"white\",\"ticks\":\"\"},\"radialaxis\":{\"gridcolor\":\"white\",\"linecolor\":\"white\",\"ticks\":\"\"}},\"ternary\":{\"bgcolor\":\"#E5ECF6\",\"aaxis\":{\"gridcolor\":\"white\",\"linecolor\":\"white\",\"ticks\":\"\"},\"baxis\":{\"gridcolor\":\"white\",\"linecolor\":\"white\",\"ticks\":\"\"},\"caxis\":{\"gridcolor\":\"white\",\"linecolor\":\"white\",\"ticks\":\"\"}},\"coloraxis\":{\"colorbar\":{\"outlinewidth\":0,\"ticks\":\"\"}},\"colorscale\":{\"sequential\":[[0.0,\"#0d0887\"],[0.1111111111111111,\"#46039f\"],[0.2222222222222222,\"#7201a8\"],[0.3333333333333333,\"#9c179e\"],[0.4444444444444444,\"#bd3786\"],[0.5555555555555556,\"#d8576b\"],[0.6666666666666666,\"#ed7953\"],[0.7777777777777778,\"#fb9f3a\"],[0.8888888888888888,\"#fdca26\"],[1.0,\"#f0f921\"]],\"sequentialminus\":[[0.0,\"#0d0887\"],[0.1111111111111111,\"#46039f\"],[0.2222222222222222,\"#7201a8\"],[0.3333333333333333,\"#9c179e\"],[0.4444444444444444,\"#bd3786\"],[0.5555555555555556,\"#d8576b\"],[0.6666666666666666,\"#ed7953\"],[0.7777777777777778,\"#fb9f3a\"],[0.8888888888888888,\"#fdca26\"],[1.0,\"#f0f921\"]],\"diverging\":[[0,\"#8e0152\"],[0.1,\"#c51b7d\"],[0.2,\"#de77ae\"],[0.3,\"#f1b6da\"],[0.4,\"#fde0ef\"],[0.5,\"#f7f7f7\"],[0.6,\"#e6f5d0\"],[0.7,\"#b8e186\"],[0.8,\"#7fbc41\"],[0.9,\"#4d9221\"],[1,\"#276419\"]]},\"xaxis\":{\"gridcolor\":\"white\",\"linecolor\":\"white\",\"ticks\":\"\",\"title\":{\"standoff\":15},\"zerolinecolor\":\"white\",\"automargin\":true,\"zerolinewidth\":2},\"yaxis\":{\"gridcolor\":\"white\",\"linecolor\":\"white\",\"ticks\":\"\",\"title\":{\"standoff\":15},\"zerolinecolor\":\"white\",\"automargin\":true,\"zerolinewidth\":2},\"scene\":{\"xaxis\":{\"backgroundcolor\":\"#E5ECF6\",\"gridcolor\":\"white\",\"linecolor\":\"white\",\"showbackground\":true,\"ticks\":\"\",\"zerolinecolor\":\"white\",\"gridwidth\":2},\"yaxis\":{\"backgroundcolor\":\"#E5ECF6\",\"gridcolor\":\"white\",\"linecolor\":\"white\",\"showbackground\":true,\"ticks\":\"\",\"zerolinecolor\":\"white\",\"gridwidth\":2},\"zaxis\":{\"backgroundcolor\":\"#E5ECF6\",\"gridcolor\":\"white\",\"linecolor\":\"white\",\"showbackground\":true,\"ticks\":\"\",\"zerolinecolor\":\"white\",\"gridwidth\":2}},\"shapedefaults\":{\"line\":{\"color\":\"#2a3f5f\"}},\"annotationdefaults\":{\"arrowcolor\":\"#2a3f5f\",\"arrowhead\":0,\"arrowwidth\":1},\"geo\":{\"bgcolor\":\"white\",\"landcolor\":\"#E5ECF6\",\"subunitcolor\":\"white\",\"showland\":true,\"showlakes\":true,\"lakecolor\":\"white\"},\"title\":{\"x\":0.05},\"mapbox\":{\"style\":\"light\"}}},\"xaxis\":{\"anchor\":\"y\",\"domain\":[0.0,1.0],\"title\":{\"text\":\"pc1\"}},\"yaxis\":{\"anchor\":\"x\",\"domain\":[0.0,1.0],\"title\":{\"text\":\"pc2\"}},\"legend\":{\"title\":{\"text\":\"ideology\"},\"tracegroupgap\":0},\"margin\":{\"t\":60}},                        {\"responsive\": true}                    ).then(function(){\n",
       "                            \n",
       "var gd = document.getElementById('2dca31c2-c2da-4e1d-8633-91e1d886dae0');\n",
       "var x = new MutationObserver(function (mutations, observer) {{\n",
       "        var display = window.getComputedStyle(gd).display;\n",
       "        if (!display || display === 'none') {{\n",
       "            console.log([gd, 'removed!']);\n",
       "            Plotly.purge(gd);\n",
       "            observer.disconnect();\n",
       "        }}\n",
       "}});\n",
       "\n",
       "// Listen for the removal of the full notebook cells\n",
       "var notebookContainer = gd.closest('#notebook-container');\n",
       "if (notebookContainer) {{\n",
       "    x.observe(notebookContainer, {childList: true});\n",
       "}}\n",
       "\n",
       "// Listen for the clearing of the current output cell\n",
       "var outputEl = gd.closest('.output');\n",
       "if (outputEl) {{\n",
       "    x.observe(outputEl, {childList: true});\n",
       "}}\n",
       "\n",
       "                        })                };                });            </script>        </div>"
      ]
     },
     "metadata": {},
     "output_type": "display_data"
    }
   ],
   "source": [
    "first_2_pcs['state'] = df_standardized.index\n",
    "first_2_pcs.set_index('state', inplace=True)\n",
    "first_2_pcs = first_2_pcs.join(cons_lib)\n",
    "first_2_pcs.reset_index(inplace=True)\n",
    "\n",
    "\n",
    "fig = px.scatter(first_2_pcs, x=\"pc1\", y=\"pc2\", color='ideology',\n",
    "                hover_data={\"state\": True}); \n",
    "\n",
    "fig.show(); "
   ]
  },
  {
   "cell_type": "markdown",
   "id": "116b646a",
   "metadata": {},
   "source": [
    "### Mental Health"
   ]
  },
  {
   "cell_type": "code",
   "execution_count": 18,
   "id": "d01632bd",
   "metadata": {},
   "outputs": [],
   "source": [
    "Indicator = ['Took Prescription Medication for Mental Health, Last 4 Weeks',\n",
    "             'Received Counseling or Therapy, Last 4 Weeks',\n",
    "             'Took Prescription Medication for Mental Health And/Or Received Counseling or Therapy, Last 4 Weeks',\n",
    "             'Needed Counseling or Therapy But Did Not Get It, Last 4 Weeks']\n",
    "dataset = df_mental\n",
    "\n",
    "L_dfs_processed = []\n",
    "\n",
    "for ind in Indicator:\n",
    "    L_dfs_processed.append(data_states(dataset, ind, ['2', '3.1']))\n",
    "\n",
    "\n",
    "joined_dfs = L_dfs_processed[0]\n",
    "for i in range(len(L_dfs_processed)-1):\n",
    "    joined_dfs = joined_dfs.join(L_dfs_processed[i+1])"
   ]
  },
  {
   "cell_type": "code",
   "execution_count": 19,
   "id": "dffdf593",
   "metadata": {},
   "outputs": [
    {
     "data": {
      "text/html": [
       "<div>\n",
       "<style scoped>\n",
       "    .dataframe tbody tr th:only-of-type {\n",
       "        vertical-align: middle;\n",
       "    }\n",
       "\n",
       "    .dataframe tbody tr th {\n",
       "        vertical-align: top;\n",
       "    }\n",
       "\n",
       "    .dataframe thead th {\n",
       "        text-align: right;\n",
       "    }\n",
       "</style>\n",
       "<table border=\"1\" class=\"dataframe\">\n",
       "  <thead>\n",
       "    <tr style=\"text-align: right;\">\n",
       "      <th>Phase</th>\n",
       "      <th>Took Prescription Medication for Mental Health, Last 4 Weeks_2</th>\n",
       "      <th>Took Prescription Medication for Mental Health, Last 4 Weeks_3.1</th>\n",
       "      <th>Received Counseling or Therapy, Last 4 Weeks_2</th>\n",
       "      <th>Received Counseling or Therapy, Last 4 Weeks_3.1</th>\n",
       "      <th>Took Prescription Medication for Mental Health And/Or Received Counseling or Therapy, Last 4 Weeks_2</th>\n",
       "      <th>Took Prescription Medication for Mental Health And/Or Received Counseling or Therapy, Last 4 Weeks_3.1</th>\n",
       "      <th>Needed Counseling or Therapy But Did Not Get It, Last 4 Weeks_2</th>\n",
       "      <th>Needed Counseling or Therapy But Did Not Get It, Last 4 Weeks_3.1</th>\n",
       "    </tr>\n",
       "    <tr>\n",
       "      <th>State</th>\n",
       "      <th></th>\n",
       "      <th></th>\n",
       "      <th></th>\n",
       "      <th></th>\n",
       "      <th></th>\n",
       "      <th></th>\n",
       "      <th></th>\n",
       "      <th></th>\n",
       "    </tr>\n",
       "  </thead>\n",
       "  <tbody>\n",
       "    <tr>\n",
       "      <th>Alabama</th>\n",
       "      <td>23.50</td>\n",
       "      <td>24.083333</td>\n",
       "      <td>7.38</td>\n",
       "      <td>8.866667</td>\n",
       "      <td>25.40</td>\n",
       "      <td>26.133333</td>\n",
       "      <td>10.06</td>\n",
       "      <td>11.133333</td>\n",
       "    </tr>\n",
       "    <tr>\n",
       "      <th>Alaska</th>\n",
       "      <td>16.02</td>\n",
       "      <td>17.483333</td>\n",
       "      <td>8.54</td>\n",
       "      <td>11.200000</td>\n",
       "      <td>19.46</td>\n",
       "      <td>21.850000</td>\n",
       "      <td>9.90</td>\n",
       "      <td>9.816667</td>\n",
       "    </tr>\n",
       "    <tr>\n",
       "      <th>Arizona</th>\n",
       "      <td>19.20</td>\n",
       "      <td>20.150000</td>\n",
       "      <td>8.58</td>\n",
       "      <td>8.950000</td>\n",
       "      <td>21.84</td>\n",
       "      <td>22.816667</td>\n",
       "      <td>10.66</td>\n",
       "      <td>10.583333</td>\n",
       "    </tr>\n",
       "    <tr>\n",
       "      <th>Arkansas</th>\n",
       "      <td>24.04</td>\n",
       "      <td>24.733333</td>\n",
       "      <td>6.24</td>\n",
       "      <td>7.566667</td>\n",
       "      <td>25.72</td>\n",
       "      <td>26.666667</td>\n",
       "      <td>9.90</td>\n",
       "      <td>9.750000</td>\n",
       "    </tr>\n",
       "    <tr>\n",
       "      <th>California</th>\n",
       "      <td>16.04</td>\n",
       "      <td>16.816667</td>\n",
       "      <td>9.88</td>\n",
       "      <td>10.466667</td>\n",
       "      <td>20.04</td>\n",
       "      <td>21.133333</td>\n",
       "      <td>10.80</td>\n",
       "      <td>10.483333</td>\n",
       "    </tr>\n",
       "  </tbody>\n",
       "</table>\n",
       "</div>"
      ],
      "text/plain": [
       "Phase       Took Prescription Medication for Mental Health, Last 4 Weeks_2  \\\n",
       "State                                                                        \n",
       "Alabama                                                 23.50                \n",
       "Alaska                                                  16.02                \n",
       "Arizona                                                 19.20                \n",
       "Arkansas                                                24.04                \n",
       "California                                              16.04                \n",
       "\n",
       "Phase       Took Prescription Medication for Mental Health, Last 4 Weeks_3.1  \\\n",
       "State                                                                          \n",
       "Alabama                                             24.083333                  \n",
       "Alaska                                              17.483333                  \n",
       "Arizona                                             20.150000                  \n",
       "Arkansas                                            24.733333                  \n",
       "California                                          16.816667                  \n",
       "\n",
       "Phase       Received Counseling or Therapy, Last 4 Weeks_2  \\\n",
       "State                                                        \n",
       "Alabama                                               7.38   \n",
       "Alaska                                                8.54   \n",
       "Arizona                                               8.58   \n",
       "Arkansas                                              6.24   \n",
       "California                                            9.88   \n",
       "\n",
       "Phase       Received Counseling or Therapy, Last 4 Weeks_3.1  \\\n",
       "State                                                          \n",
       "Alabama                                             8.866667   \n",
       "Alaska                                             11.200000   \n",
       "Arizona                                             8.950000   \n",
       "Arkansas                                            7.566667   \n",
       "California                                         10.466667   \n",
       "\n",
       "Phase       Took Prescription Medication for Mental Health And/Or Received Counseling or Therapy, Last 4 Weeks_2  \\\n",
       "State                                                                                                              \n",
       "Alabama                                                 25.40                                                      \n",
       "Alaska                                                  19.46                                                      \n",
       "Arizona                                                 21.84                                                      \n",
       "Arkansas                                                25.72                                                      \n",
       "California                                              20.04                                                      \n",
       "\n",
       "Phase       Took Prescription Medication for Mental Health And/Or Received Counseling or Therapy, Last 4 Weeks_3.1  \\\n",
       "State                                                                                                                \n",
       "Alabama                                             26.133333                                                        \n",
       "Alaska                                              21.850000                                                        \n",
       "Arizona                                             22.816667                                                        \n",
       "Arkansas                                            26.666667                                                        \n",
       "California                                          21.133333                                                        \n",
       "\n",
       "Phase       Needed Counseling or Therapy But Did Not Get It, Last 4 Weeks_2  \\\n",
       "State                                                                         \n",
       "Alabama                                                 10.06                 \n",
       "Alaska                                                   9.90                 \n",
       "Arizona                                                 10.66                 \n",
       "Arkansas                                                 9.90                 \n",
       "California                                              10.80                 \n",
       "\n",
       "Phase       Needed Counseling or Therapy But Did Not Get It, Last 4 Weeks_3.1  \n",
       "State                                                                          \n",
       "Alabama                                             11.133333                  \n",
       "Alaska                                               9.816667                  \n",
       "Arizona                                             10.583333                  \n",
       "Arkansas                                             9.750000                  \n",
       "California                                          10.483333                  "
      ]
     },
     "execution_count": 19,
     "metadata": {},
     "output_type": "execute_result"
    }
   ],
   "source": [
    "joined_dfs.head()"
   ]
  },
  {
   "cell_type": "code",
   "execution_count": 26,
   "id": "101adf02",
   "metadata": {},
   "outputs": [
    {
     "data": {
      "image/png": "[encoded data removed]",
      "text/plain": [
       "<Figure size 432x288 with 1 Axes>"
      ]
     },
     "metadata": {
      "needs_background": "light"
     },
     "output_type": "display_data"
    }
   ],
   "source": [
    "np.random.seed(42)\n",
    "df_standardized = (joined_dfs - joined_dfs.mean())/np.std(joined_dfs)\n",
    "u, s, vt = np.linalg.svd(df_standardized, full_matrices=False)\n",
    "np.round(s**2 / sum(s**2), 2)\n",
    "pcs = u * s\n",
    "\n",
    "first_2_pcs = pd.DataFrame( {\n",
    "    'pc1' : pcs[:, 0],\n",
    "    'pc2' : pcs[:, 1]})\n",
    "\n",
    "sns.scatterplot(data = first_2_pcs, x = \"pc1\", y = \"pc2\");"
   ]
  },
  {
   "cell_type": "code",
   "execution_count": 27,
   "id": "74c4d7de",
   "metadata": {},
   "outputs": [
    {
     "data": {
      "application/vnd.plotly.v1+json": {
       "config": {
        "plotlyServerURL": "https://plot.ly"
       },
       "data": [
        {
         "customdata": [
          [
           "Alabama"
          ],
          [
           "Arizona"
          ],
          [
           "Arkansas"
          ],
          [
           "Florida"
          ],
          [
           "Georgia"
          ],
          [
           "Idaho"
          ],
          [
           "Indiana"
          ],
          [
           "Iowa"
          ],
          [
           "Kansas"
          ],
          [
           "Kentucky"
          ],
          [
           "Louisiana"
          ],
          [
           "Maine"
          ],
          [
           "Michigan"
          ],
          [
           "Minnesota"
          ],
          [
           "Mississippi"
          ],
          [
           "Missouri"
          ],
          [
           "Montana"
          ],
          [
           "Nebraska"
          ],
          [
           "New Hampshire"
          ],
          [
           "North Carolina"
          ],
          [
           "North Dakota"
          ],
          [
           "Ohio"
          ],
          [
           "Oklahoma"
          ],
          [
           "Pennsylvania"
          ],
          [
           "South Carolina"
          ],
          [
           "South Dakota"
          ],
          [
           "Tennessee"
          ],
          [
           "Texas"
          ],
          [
           "Utah"
          ],
          [
           "Virginia"
          ],
          [
           "West Virginia"
          ],
          [
           "Wisconsin"
          ],
          [
           "Wyoming"
          ]
         ],
         "hovertemplate": "ideology=Conservative<br>pc1=%{x}<br>pc2=%{y}<br>state=%{customdata[0]}<extra></extra>",
         "legendgroup": "Conservative",
         "marker": {
          "color": "#636efa",
          "symbol": "circle"
         },
         "mode": "markers",
         "name": "Conservative",
         "orientation": "v",
         "showlegend": true,
         "type": "scatter",
         "x": [
          -1.1154574936294637,
          1.2309711589512244,
          -0.9212187333035088,
          2.185957725046247,
          0.7373571567254359,
          -1.4503157601976675,
          -1.241196112525718,
          -0.5691333462350544,
          -0.5132247666113631,
          -2.921391626852933,
          -2.042507341256044,
          -3.130976615884674,
          -0.3652875964353497,
          -0.7920382032285034,
          0.9654738585290975,
          -1.5491082396198737,
          0.2501704443462296,
          1.025608811607658,
          -0.3960647274818154,
          -0.5802657537002727,
          2.042381571186559,
          -0.018870002781521927,
          -1.7360014692622938,
          -0.9170461218853319,
          0.5029648988497956,
          2.272404225369106,
          -0.8972580672217823,
          2.4479520715922343,
          -2.966052973830363,
          0.8327445706154655,
          -2.4455612629698207,
          0.9461847219649253,
          3.0542214217533696
         ],
         "xaxis": "x",
         "y": [
          1.1084714898725312,
          -0.5490006962055719,
          2.153556343720298,
          -0.018551329252225846,
          -0.49764693478186767,
          0.6667578922678365,
          1.6317717769247528,
          2.0155900445562365,
          0.4865894908384314,
          1.699598423791473,
          0.9112589349559304,
          0.2061641792694883,
          -0.15915007718742136,
          0.5454470335365246,
          1.524768541142201,
          0.5005473858261603,
          0.08134390082741759,
          1.050609546136733,
          0.885867935960034,
          0.28775181239124764,
          2.5187652396588827,
          0.877805914800499,
          0.9062051063449647,
          0.3646513955896733,
          1.2114040501813408,
          2.3307433253530165,
          0.9691907076279004,
          -0.21992214658466286,
          -0.4305961841560306,
          -0.269499221388627,
          2.477818447536793,
          1.0265613826583957,
          1.0620543179341535
         ],
         "yaxis": "y"
        },
        {
         "customdata": [
          [
           "Alaska"
          ],
          [
           "California"
          ],
          [
           "Colorado"
          ],
          [
           "Connecticut"
          ],
          [
           "Delaware"
          ],
          [
           "District of Columbia"
          ],
          [
           "Hawaii"
          ],
          [
           "Illinois"
          ],
          [
           "Maryland"
          ],
          [
           "Massachusetts"
          ],
          [
           "Nevada"
          ],
          [
           "New Jersey"
          ],
          [
           "New Mexico"
          ],
          [
           "New York"
          ],
          [
           "Oregon"
          ],
          [
           "Rhode Island"
          ],
          [
           "Vermont"
          ],
          [
           "Washington"
          ]
         ],
         "hovertemplate": "ideology=Moderate<br>pc1=%{x}<br>pc2=%{y}<br>state=%{customdata[0]}<extra></extra>",
         "legendgroup": "Moderate",
         "marker": {
          "color": "#EF553B",
          "symbol": "circle"
         },
         "mode": "markers",
         "name": "Moderate",
         "orientation": "v",
         "showlegend": true,
         "type": "scatter",
         "x": [
          2.782221501406755,
          2.5516771672127745,
          -1.1913106855733688,
          0.5153683005696583,
          0.6504093075709042,
          -2.472368795735768,
          6.787018915122515,
          0.9244801316979809,
          0.5475144638453076,
          -2.1125782289425135,
          3.287790736369543,
          3.2364968655722124,
          -0.06360130270022718,
          1.4538847274902482,
          -2.990854079106026,
          -2.372886165389417,
          -2.5763555388496746,
          -0.8823237421848924
         ],
         "xaxis": "x",
         "y": [
          -1.5457380793387425,
          -2.179809208747664,
          -2.5514103889509143,
          -0.9913256934571146,
          0.053748907726031935,
          -5.597890042377367,
          -0.8583622374771671,
          -0.6771191865406102,
          -1.382662992154473,
          -1.5975605637956583,
          -0.9602391806775558,
          -0.2906950982766322,
          -1.2904048284597767,
          -2.029939705321207,
          -2.3877806579566614,
          -0.6189775787514844,
          -1.0763164158433056,
          -1.374445079746212
         ],
         "yaxis": "y"
        }
       ],
       "layout": {
        "legend": {
         "title": {
          "text": "ideology"
         },
         "tracegroupgap": 0
        },
        "margin": {
         "t": 60
        },
        "template": {
         "data": {
          "bar": [
           {
            "error_x": {
             "color": "#2a3f5f"
            },
            "error_y": {
             "color": "#2a3f5f"
            },
            "marker": {
             "line": {
              "color": "#E5ECF6",
              "width": 0.5
             },
             "pattern": {
              "fillmode": "overlay",
              "size": 10,
              "solidity": 0.2
             }
            },
            "type": "bar"
           }
          ],
          "barpolar": [
           {
            "marker": {
             "line": {
              "color": "#E5ECF6",
              "width": 0.5
             },
             "pattern": {
              "fillmode": "overlay",
              "size": 10,
              "solidity": 0.2
             }
            },
            "type": "barpolar"
           }
          ],
          "carpet": [
           {
            "aaxis": {
             "endlinecolor": "#2a3f5f",
             "gridcolor": "white",
             "linecolor": "white",
             "minorgridcolor": "white",
             "startlinecolor": "#2a3f5f"
            },
            "baxis": {
             "endlinecolor": "#2a3f5f",
             "gridcolor": "white",
             "linecolor": "white",
             "minorgridcolor": "white",
             "startlinecolor": "#2a3f5f"
            },
            "type": "carpet"
           }
          ],
          "choropleth": [
           {
            "colorbar": {
             "outlinewidth": 0,
             "ticks": ""
            },
            "type": "choropleth"
           }
          ],
          "contour": [
           {
            "colorbar": {
             "outlinewidth": 0,
             "ticks": ""
            },
            "colorscale": [
             [
              0,
              "#0d0887"
             ],
             [
              0.1111111111111111,
              "#46039f"
             ],
             [
              0.2222222222222222,
              "#7201a8"
             ],
             [
              0.3333333333333333,
              "#9c179e"
             ],
             [
              0.4444444444444444,
              "#bd3786"
             ],
             [
              0.5555555555555556,
              "#d8576b"
             ],
             [
              0.6666666666666666,
              "#ed7953"
             ],
             [
              0.7777777777777778,
              "#fb9f3a"
             ],
             [
              0.8888888888888888,
              "#fdca26"
             ],
             [
              1,
              "#f0f921"
             ]
            ],
            "type": "contour"
           }
          ],
          "contourcarpet": [
           {
            "colorbar": {
             "outlinewidth": 0,
             "ticks": ""
            },
            "type": "contourcarpet"
           }
          ],
          "heatmap": [
           {
            "colorbar": {
             "outlinewidth": 0,
             "ticks": ""
            },
            "colorscale": [
             [
              0,
              "#0d0887"
             ],
             [
              0.1111111111111111,
              "#46039f"
             ],
             [
              0.2222222222222222,
              "#7201a8"
             ],
             [
              0.3333333333333333,
              "#9c179e"
             ],
             [
              0.4444444444444444,
              "#bd3786"
             ],
             [
              0.5555555555555556,
              "#d8576b"
             ],
             [
              0.6666666666666666,
              "#ed7953"
             ],
             [
              0.7777777777777778,
              "#fb9f3a"
             ],
             [
              0.8888888888888888,
              "#fdca26"
             ],
             [
              1,
              "#f0f921"
             ]
            ],
            "type": "heatmap"
           }
          ],
          "heatmapgl": [
           {
            "colorbar": {
             "outlinewidth": 0,
             "ticks": ""
            },
            "colorscale": [
             [
              0,
              "#0d0887"
             ],
             [
              0.1111111111111111,
              "#46039f"
             ],
             [
              0.2222222222222222,
              "#7201a8"
             ],
             [
              0.3333333333333333,
              "#9c179e"
             ],
             [
              0.4444444444444444,
              "#bd3786"
             ],
             [
              0.5555555555555556,
              "#d8576b"
             ],
             [
              0.6666666666666666,
              "#ed7953"
             ],
             [
              0.7777777777777778,
              "#fb9f3a"
             ],
             [
              0.8888888888888888,
              "#fdca26"
             ],
             [
              1,
              "#f0f921"
             ]
            ],
            "type": "heatmapgl"
           }
          ],
          "histogram": [
           {
            "marker": {
             "pattern": {
              "fillmode": "overlay",
              "size": 10,
              "solidity": 0.2
             }
            },
            "type": "histogram"
           }
          ],
          "histogram2d": [
           {
            "colorbar": {
             "outlinewidth": 0,
             "ticks": ""
            },
            "colorscale": [
             [
              0,
              "#0d0887"
             ],
             [
              0.1111111111111111,
              "#46039f"
             ],
             [
              0.2222222222222222,
              "#7201a8"
             ],
             [
              0.3333333333333333,
              "#9c179e"
             ],
             [
              0.4444444444444444,
              "#bd3786"
             ],
             [
              0.5555555555555556,
              "#d8576b"
             ],
             [
              0.6666666666666666,
              "#ed7953"
             ],
             [
              0.7777777777777778,
              "#fb9f3a"
             ],
             [
              0.8888888888888888,
              "#fdca26"
             ],
             [
              1,
              "#f0f921"
             ]
            ],
            "type": "histogram2d"
           }
          ],
          "histogram2dcontour": [
           {
            "colorbar": {
             "outlinewidth": 0,
             "ticks": ""
            },
            "colorscale": [
             [
              0,
              "#0d0887"
             ],
             [
              0.1111111111111111,
              "#46039f"
             ],
             [
              0.2222222222222222,
              "#7201a8"
             ],
             [
              0.3333333333333333,
              "#9c179e"
             ],
             [
              0.4444444444444444,
              "#bd3786"
             ],
             [
              0.5555555555555556,
              "#d8576b"
             ],
             [
              0.6666666666666666,
              "#ed7953"
             ],
             [
              0.7777777777777778,
              "#fb9f3a"
             ],
             [
              0.8888888888888888,
              "#fdca26"
             ],
             [
              1,
              "#f0f921"
             ]
            ],
            "type": "histogram2dcontour"
           }
          ],
          "mesh3d": [
           {
            "colorbar": {
             "outlinewidth": 0,
             "ticks": ""
            },
            "type": "mesh3d"
           }
          ],
          "parcoords": [
           {
            "line": {
             "colorbar": {
              "outlinewidth": 0,
              "ticks": ""
             }
            },
            "type": "parcoords"
           }
          ],
          "pie": [
           {
            "automargin": true,
            "type": "pie"
           }
          ],
          "scatter": [
           {
            "fillpattern": {
             "fillmode": "overlay",
             "size": 10,
             "solidity": 0.2
            },
            "type": "scatter"
           }
          ],
          "scatter3d": [
           {
            "line": {
             "colorbar": {
              "outlinewidth": 0,
              "ticks": ""
             }
            },
            "marker": {
             "colorbar": {
              "outlinewidth": 0,
              "ticks": ""
             }
            },
            "type": "scatter3d"
           }
          ],
          "scattercarpet": [
           {
            "marker": {
             "colorbar": {
              "outlinewidth": 0,
              "ticks": ""
             }
            },
            "type": "scattercarpet"
           }
          ],
          "scattergeo": [
           {
            "marker": {
             "colorbar": {
              "outlinewidth": 0,
              "ticks": ""
             }
            },
            "type": "scattergeo"
           }
          ],
          "scattergl": [
           {
            "marker": {
             "colorbar": {
              "outlinewidth": 0,
              "ticks": ""
             }
            },
            "type": "scattergl"
           }
          ],
          "scattermapbox": [
           {
            "marker": {
             "colorbar": {
              "outlinewidth": 0,
              "ticks": ""
             }
            },
            "type": "scattermapbox"
           }
          ],
          "scatterpolar": [
           {
            "marker": {
             "colorbar": {
              "outlinewidth": 0,
              "ticks": ""
             }
            },
            "type": "scatterpolar"
           }
          ],
          "scatterpolargl": [
           {
            "marker": {
             "colorbar": {
              "outlinewidth": 0,
              "ticks": ""
             }
            },
            "type": "scatterpolargl"
           }
          ],
          "scatterternary": [
           {
            "marker": {
             "colorbar": {
              "outlinewidth": 0,
              "ticks": ""
             }
            },
            "type": "scatterternary"
           }
          ],
          "surface": [
           {
            "colorbar": {
             "outlinewidth": 0,
             "ticks": ""
            },
            "colorscale": [
             [
              0,
              "#0d0887"
             ],
             [
              0.1111111111111111,
              "#46039f"
             ],
             [
              0.2222222222222222,
              "#7201a8"
             ],
             [
              0.3333333333333333,
              "#9c179e"
             ],
             [
              0.4444444444444444,
              "#bd3786"
             ],
             [
              0.5555555555555556,
              "#d8576b"
             ],
             [
              0.6666666666666666,
              "#ed7953"
             ],
             [
              0.7777777777777778,
              "#fb9f3a"
             ],
             [
              0.8888888888888888,
              "#fdca26"
             ],
             [
              1,
              "#f0f921"
             ]
            ],
            "type": "surface"
           }
          ],
          "table": [
           {
            "cells": {
             "fill": {
              "color": "#EBF0F8"
             },
             "line": {
              "color": "white"
             }
            },
            "header": {
             "fill": {
              "color": "#C8D4E3"
             },
             "line": {
              "color": "white"
             }
            },
            "type": "table"
           }
          ]
         },
         "layout": {
          "annotationdefaults": {
           "arrowcolor": "#2a3f5f",
           "arrowhead": 0,
           "arrowwidth": 1
          },
          "autotypenumbers": "strict",
          "coloraxis": {
           "colorbar": {
            "outlinewidth": 0,
            "ticks": ""
           }
          },
          "colorscale": {
           "diverging": [
            [
             0,
             "#8e0152"
            ],
            [
             0.1,
             "#c51b7d"
            ],
            [
             0.2,
             "#de77ae"
            ],
            [
             0.3,
             "#f1b6da"
            ],
            [
             0.4,
             "#fde0ef"
            ],
            [
             0.5,
             "#f7f7f7"
            ],
            [
             0.6,
             "#e6f5d0"
            ],
            [
             0.7,
             "#b8e186"
            ],
            [
             0.8,
             "#7fbc41"
            ],
            [
             0.9,
             "#4d9221"
            ],
            [
             1,
             "#276419"
            ]
           ],
           "sequential": [
            [
             0,
             "#0d0887"
            ],
            [
             0.1111111111111111,
             "#46039f"
            ],
            [
             0.2222222222222222,
             "#7201a8"
            ],
            [
             0.3333333333333333,
             "#9c179e"
            ],
            [
             0.4444444444444444,
             "#bd3786"
            ],
            [
             0.5555555555555556,
             "#d8576b"
            ],
            [
             0.6666666666666666,
             "#ed7953"
            ],
            [
             0.7777777777777778,
             "#fb9f3a"
            ],
            [
             0.8888888888888888,
             "#fdca26"
            ],
            [
             1,
             "#f0f921"
            ]
           ],
           "sequentialminus": [
            [
             0,
             "#0d0887"
            ],
            [
             0.1111111111111111,
             "#46039f"
            ],
            [
             0.2222222222222222,
             "#7201a8"
            ],
            [
             0.3333333333333333,
             "#9c179e"
            ],
            [
             0.4444444444444444,
             "#bd3786"
            ],
            [
             0.5555555555555556,
             "#d8576b"
            ],
            [
             0.6666666666666666,
             "#ed7953"
            ],
            [
             0.7777777777777778,
             "#fb9f3a"
            ],
            [
             0.8888888888888888,
             "#fdca26"
            ],
            [
             1,
             "#f0f921"
            ]
           ]
          },
          "colorway": [
           "#636efa",
           "#EF553B",
           "#00cc96",
           "#ab63fa",
           "#FFA15A",
           "#19d3f3",
           "#FF6692",
           "#B6E880",
           "#FF97FF",
           "#FECB52"
          ],
          "font": {
           "color": "#2a3f5f"
          },
          "geo": {
           "bgcolor": "white",
           "lakecolor": "white",
           "landcolor": "#E5ECF6",
           "showlakes": true,
           "showland": true,
           "subunitcolor": "white"
          },
          "hoverlabel": {
           "align": "left"
          },
          "hovermode": "closest",
          "mapbox": {
           "style": "light"
          },
          "paper_bgcolor": "white",
          "plot_bgcolor": "#E5ECF6",
          "polar": {
           "angularaxis": {
            "gridcolor": "white",
            "linecolor": "white",
            "ticks": ""
           },
           "bgcolor": "#E5ECF6",
           "radialaxis": {
            "gridcolor": "white",
            "linecolor": "white",
            "ticks": ""
           }
          },
          "scene": {
           "xaxis": {
            "backgroundcolor": "#E5ECF6",
            "gridcolor": "white",
            "gridwidth": 2,
            "linecolor": "white",
            "showbackground": true,
            "ticks": "",
            "zerolinecolor": "white"
           },
           "yaxis": {
            "backgroundcolor": "#E5ECF6",
            "gridcolor": "white",
            "gridwidth": 2,
            "linecolor": "white",
            "showbackground": true,
            "ticks": "",
            "zerolinecolor": "white"
           },
           "zaxis": {
            "backgroundcolor": "#E5ECF6",
            "gridcolor": "white",
            "gridwidth": 2,
            "linecolor": "white",
            "showbackground": true,
            "ticks": "",
            "zerolinecolor": "white"
           }
          },
          "shapedefaults": {
           "line": {
            "color": "#2a3f5f"
           }
          },
          "ternary": {
           "aaxis": {
            "gridcolor": "white",
            "linecolor": "white",
            "ticks": ""
           },
           "baxis": {
            "gridcolor": "white",
            "linecolor": "white",
            "ticks": ""
           },
           "bgcolor": "#E5ECF6",
           "caxis": {
            "gridcolor": "white",
            "linecolor": "white",
            "ticks": ""
           }
          },
          "title": {
           "x": 0.05
          },
          "xaxis": {
           "automargin": true,
           "gridcolor": "white",
           "linecolor": "white",
           "ticks": "",
           "title": {
            "standoff": 15
           },
           "zerolinecolor": "white",
           "zerolinewidth": 2
          },
          "yaxis": {
           "automargin": true,
           "gridcolor": "white",
           "linecolor": "white",
           "ticks": "",
           "title": {
            "standoff": 15
           },
           "zerolinecolor": "white",
           "zerolinewidth": 2
          }
         }
        },
        "xaxis": {
         "anchor": "y",
         "domain": [
          0,
          1
         ],
         "title": {
          "text": "pc1"
         }
        },
        "yaxis": {
         "anchor": "x",
         "domain": [
          0,
          1
         ],
         "title": {
          "text": "pc2"
         }
        }
       }
      },
      "text/html": [
       "<div>                            <div id=\"e573d25d-e1c7-47ee-a9cc-e06988a6bbe4\" class=\"plotly-graph-div\" style=\"height:525px; width:100%;\"></div>            <script type=\"text/javascript\">                require([\"plotly\"], function(Plotly) {                    window.PLOTLYENV=window.PLOTLYENV || {};                                    if (document.getElementById(\"e573d25d-e1c7-47ee-a9cc-e06988a6bbe4\")) {                    Plotly.newPlot(                        \"e573d25d-e1c7-47ee-a9cc-e06988a6bbe4\",                        [{\"customdata\":[[\"Alabama\"],[\"Arizona\"],[\"Arkansas\"],[\"Florida\"],[\"Georgia\"],[\"Idaho\"],[\"Indiana\"],[\"Iowa\"],[\"Kansas\"],[\"Kentucky\"],[\"Louisiana\"],[\"Maine\"],[\"Michigan\"],[\"Minnesota\"],[\"Mississippi\"],[\"Missouri\"],[\"Montana\"],[\"Nebraska\"],[\"New Hampshire\"],[\"North Carolina\"],[\"North Dakota\"],[\"Ohio\"],[\"Oklahoma\"],[\"Pennsylvania\"],[\"South Carolina\"],[\"South Dakota\"],[\"Tennessee\"],[\"Texas\"],[\"Utah\"],[\"Virginia\"],[\"West Virginia\"],[\"Wisconsin\"],[\"Wyoming\"]],\"hovertemplate\":\"ideology=Conservative<br>pc1=%{x}<br>pc2=%{y}<br>state=%{customdata[0]}<extra></extra>\",\"legendgroup\":\"Conservative\",\"marker\":{\"color\":\"#636efa\",\"symbol\":\"circle\"},\"mode\":\"markers\",\"name\":\"Conservative\",\"orientation\":\"v\",\"showlegend\":true,\"x\":[-1.1154574936294637,1.2309711589512244,-0.9212187333035088,2.185957725046247,0.7373571567254359,-1.4503157601976675,-1.241196112525718,-0.5691333462350544,-0.5132247666113631,-2.921391626852933,-2.042507341256044,-3.130976615884674,-0.3652875964353497,-0.7920382032285034,0.9654738585290975,-1.5491082396198737,0.2501704443462296,1.025608811607658,-0.3960647274818154,-0.5802657537002727,2.042381571186559,-0.018870002781521927,-1.7360014692622938,-0.9170461218853319,0.5029648988497956,2.272404225369106,-0.8972580672217823,2.4479520715922343,-2.966052973830363,0.8327445706154655,-2.4455612629698207,0.9461847219649253,3.0542214217533696],\"xaxis\":\"x\",\"y\":[1.1084714898725312,-0.5490006962055719,2.153556343720298,-0.018551329252225846,-0.49764693478186767,0.6667578922678365,1.6317717769247528,2.0155900445562365,0.4865894908384314,1.699598423791473,0.9112589349559304,0.2061641792694883,-0.15915007718742136,0.5454470335365246,1.524768541142201,0.5005473858261603,0.08134390082741759,1.050609546136733,0.885867935960034,0.28775181239124764,2.5187652396588827,0.877805914800499,0.9062051063449647,0.3646513955896733,1.2114040501813408,2.3307433253530165,0.9691907076279004,-0.21992214658466286,-0.4305961841560306,-0.269499221388627,2.477818447536793,1.0265613826583957,1.0620543179341535],\"yaxis\":\"y\",\"type\":\"scatter\"},{\"customdata\":[[\"Alaska\"],[\"California\"],[\"Colorado\"],[\"Connecticut\"],[\"Delaware\"],[\"District of Columbia\"],[\"Hawaii\"],[\"Illinois\"],[\"Maryland\"],[\"Massachusetts\"],[\"Nevada\"],[\"New Jersey\"],[\"New Mexico\"],[\"New York\"],[\"Oregon\"],[\"Rhode Island\"],[\"Vermont\"],[\"Washington\"]],\"hovertemplate\":\"ideology=Moderate<br>pc1=%{x}<br>pc2=%{y}<br>state=%{customdata[0]}<extra></extra>\",\"legendgroup\":\"Moderate\",\"marker\":{\"color\":\"#EF553B\",\"symbol\":\"circle\"},\"mode\":\"markers\",\"name\":\"Moderate\",\"orientation\":\"v\",\"showlegend\":true,\"x\":[2.782221501406755,2.5516771672127745,-1.1913106855733688,0.5153683005696583,0.6504093075709042,-2.472368795735768,6.787018915122515,0.9244801316979809,0.5475144638453076,-2.1125782289425135,3.287790736369543,3.2364968655722124,-0.06360130270022718,1.4538847274902482,-2.990854079106026,-2.372886165389417,-2.5763555388496746,-0.8823237421848924],\"xaxis\":\"x\",\"y\":[-1.5457380793387425,-2.179809208747664,-2.5514103889509143,-0.9913256934571146,0.053748907726031935,-5.597890042377367,-0.8583622374771671,-0.6771191865406102,-1.382662992154473,-1.5975605637956583,-0.9602391806775558,-0.2906950982766322,-1.2904048284597767,-2.029939705321207,-2.3877806579566614,-0.6189775787514844,-1.0763164158433056,-1.374445079746212],\"yaxis\":\"y\",\"type\":\"scatter\"}],                        {\"template\":{\"data\":{\"histogram2dcontour\":[{\"type\":\"histogram2dcontour\",\"colorbar\":{\"outlinewidth\":0,\"ticks\":\"\"},\"colorscale\":[[0.0,\"#0d0887\"],[0.1111111111111111,\"#46039f\"],[0.2222222222222222,\"#7201a8\"],[0.3333333333333333,\"#9c179e\"],[0.4444444444444444,\"#bd3786\"],[0.5555555555555556,\"#d8576b\"],[0.6666666666666666,\"#ed7953\"],[0.7777777777777778,\"#fb9f3a\"],[0.8888888888888888,\"#fdca26\"],[1.0,\"#f0f921\"]]}],\"choropleth\":[{\"type\":\"choropleth\",\"colorbar\":{\"outlinewidth\":0,\"ticks\":\"\"}}],\"histogram2d\":[{\"type\":\"histogram2d\",\"colorbar\":{\"outlinewidth\":0,\"ticks\":\"\"},\"colorscale\":[[0.0,\"#0d0887\"],[0.1111111111111111,\"#46039f\"],[0.2222222222222222,\"#7201a8\"],[0.3333333333333333,\"#9c179e\"],[0.4444444444444444,\"#bd3786\"],[0.5555555555555556,\"#d8576b\"],[0.6666666666666666,\"#ed7953\"],[0.7777777777777778,\"#fb9f3a\"],[0.8888888888888888,\"#fdca26\"],[1.0,\"#f0f921\"]]}],\"heatmap\":[{\"type\":\"heatmap\",\"colorbar\":{\"outlinewidth\":0,\"ticks\":\"\"},\"colorscale\":[[0.0,\"#0d0887\"],[0.1111111111111111,\"#46039f\"],[0.2222222222222222,\"#7201a8\"],[0.3333333333333333,\"#9c179e\"],[0.4444444444444444,\"#bd3786\"],[0.5555555555555556,\"#d8576b\"],[0.6666666666666666,\"#ed7953\"],[0.7777777777777778,\"#fb9f3a\"],[0.8888888888888888,\"#fdca26\"],[1.0,\"#f0f921\"]]}],\"heatmapgl\":[{\"type\":\"heatmapgl\",\"colorbar\":{\"outlinewidth\":0,\"ticks\":\"\"},\"colorscale\":[[0.0,\"#0d0887\"],[0.1111111111111111,\"#46039f\"],[0.2222222222222222,\"#7201a8\"],[0.3333333333333333,\"#9c179e\"],[0.4444444444444444,\"#bd3786\"],[0.5555555555555556,\"#d8576b\"],[0.6666666666666666,\"#ed7953\"],[0.7777777777777778,\"#fb9f3a\"],[0.8888888888888888,\"#fdca26\"],[1.0,\"#f0f921\"]]}],\"contourcarpet\":[{\"type\":\"contourcarpet\",\"colorbar\":{\"outlinewidth\":0,\"ticks\":\"\"}}],\"contour\":[{\"type\":\"contour\",\"colorbar\":{\"outlinewidth\":0,\"ticks\":\"\"},\"colorscale\":[[0.0,\"#0d0887\"],[0.1111111111111111,\"#46039f\"],[0.2222222222222222,\"#7201a8\"],[0.3333333333333333,\"#9c179e\"],[0.4444444444444444,\"#bd3786\"],[0.5555555555555556,\"#d8576b\"],[0.6666666666666666,\"#ed7953\"],[0.7777777777777778,\"#fb9f3a\"],[0.8888888888888888,\"#fdca26\"],[1.0,\"#f0f921\"]]}],\"surface\":[{\"type\":\"surface\",\"colorbar\":{\"outlinewidth\":0,\"ticks\":\"\"},\"colorscale\":[[0.0,\"#0d0887\"],[0.1111111111111111,\"#46039f\"],[0.2222222222222222,\"#7201a8\"],[0.3333333333333333,\"#9c179e\"],[0.4444444444444444,\"#bd3786\"],[0.5555555555555556,\"#d8576b\"],[0.6666666666666666,\"#ed7953\"],[0.7777777777777778,\"#fb9f3a\"],[0.8888888888888888,\"#fdca26\"],[1.0,\"#f0f921\"]]}],\"mesh3d\":[{\"type\":\"mesh3d\",\"colorbar\":{\"outlinewidth\":0,\"ticks\":\"\"}}],\"scatter\":[{\"fillpattern\":{\"fillmode\":\"overlay\",\"size\":10,\"solidity\":0.2},\"type\":\"scatter\"}],\"parcoords\":[{\"type\":\"parcoords\",\"line\":{\"colorbar\":{\"outlinewidth\":0,\"ticks\":\"\"}}}],\"scatterpolargl\":[{\"type\":\"scatterpolargl\",\"marker\":{\"colorbar\":{\"outlinewidth\":0,\"ticks\":\"\"}}}],\"bar\":[{\"error_x\":{\"color\":\"#2a3f5f\"},\"error_y\":{\"color\":\"#2a3f5f\"},\"marker\":{\"line\":{\"color\":\"#E5ECF6\",\"width\":0.5},\"pattern\":{\"fillmode\":\"overlay\",\"size\":10,\"solidity\":0.2}},\"type\":\"bar\"}],\"scattergeo\":[{\"type\":\"scattergeo\",\"marker\":{\"colorbar\":{\"outlinewidth\":0,\"ticks\":\"\"}}}],\"scatterpolar\":[{\"type\":\"scatterpolar\",\"marker\":{\"colorbar\":{\"outlinewidth\":0,\"ticks\":\"\"}}}],\"histogram\":[{\"marker\":{\"pattern\":{\"fillmode\":\"overlay\",\"size\":10,\"solidity\":0.2}},\"type\":\"histogram\"}],\"scattergl\":[{\"type\":\"scattergl\",\"marker\":{\"colorbar\":{\"outlinewidth\":0,\"ticks\":\"\"}}}],\"scatter3d\":[{\"type\":\"scatter3d\",\"line\":{\"colorbar\":{\"outlinewidth\":0,\"ticks\":\"\"}},\"marker\":{\"colorbar\":{\"outlinewidth\":0,\"ticks\":\"\"}}}],\"scattermapbox\":[{\"type\":\"scattermapbox\",\"marker\":{\"colorbar\":{\"outlinewidth\":0,\"ticks\":\"\"}}}],\"scatterternary\":[{\"type\":\"scatterternary\",\"marker\":{\"colorbar\":{\"outlinewidth\":0,\"ticks\":\"\"}}}],\"scattercarpet\":[{\"type\":\"scattercarpet\",\"marker\":{\"colorbar\":{\"outlinewidth\":0,\"ticks\":\"\"}}}],\"carpet\":[{\"aaxis\":{\"endlinecolor\":\"#2a3f5f\",\"gridcolor\":\"white\",\"linecolor\":\"white\",\"minorgridcolor\":\"white\",\"startlinecolor\":\"#2a3f5f\"},\"baxis\":{\"endlinecolor\":\"#2a3f5f\",\"gridcolor\":\"white\",\"linecolor\":\"white\",\"minorgridcolor\":\"white\",\"startlinecolor\":\"#2a3f5f\"},\"type\":\"carpet\"}],\"table\":[{\"cells\":{\"fill\":{\"color\":\"#EBF0F8\"},\"line\":{\"color\":\"white\"}},\"header\":{\"fill\":{\"color\":\"#C8D4E3\"},\"line\":{\"color\":\"white\"}},\"type\":\"table\"}],\"barpolar\":[{\"marker\":{\"line\":{\"color\":\"#E5ECF6\",\"width\":0.5},\"pattern\":{\"fillmode\":\"overlay\",\"size\":10,\"solidity\":0.2}},\"type\":\"barpolar\"}],\"pie\":[{\"automargin\":true,\"type\":\"pie\"}]},\"layout\":{\"autotypenumbers\":\"strict\",\"colorway\":[\"#636efa\",\"#EF553B\",\"#00cc96\",\"#ab63fa\",\"#FFA15A\",\"#19d3f3\",\"#FF6692\",\"#B6E880\",\"#FF97FF\",\"#FECB52\"],\"font\":{\"color\":\"#2a3f5f\"},\"hovermode\":\"closest\",\"hoverlabel\":{\"align\":\"left\"},\"paper_bgcolor\":\"white\",\"plot_bgcolor\":\"#E5ECF6\",\"polar\":{\"bgcolor\":\"#E5ECF6\",\"angularaxis\":{\"gridcolor\":\"white\",\"linecolor\":\"white\",\"ticks\":\"\"},\"radialaxis\":{\"gridcolor\":\"white\",\"linecolor\":\"white\",\"ticks\":\"\"}},\"ternary\":{\"bgcolor\":\"#E5ECF6\",\"aaxis\":{\"gridcolor\":\"white\",\"linecolor\":\"white\",\"ticks\":\"\"},\"baxis\":{\"gridcolor\":\"white\",\"linecolor\":\"white\",\"ticks\":\"\"},\"caxis\":{\"gridcolor\":\"white\",\"linecolor\":\"white\",\"ticks\":\"\"}},\"coloraxis\":{\"colorbar\":{\"outlinewidth\":0,\"ticks\":\"\"}},\"colorscale\":{\"sequential\":[[0.0,\"#0d0887\"],[0.1111111111111111,\"#46039f\"],[0.2222222222222222,\"#7201a8\"],[0.3333333333333333,\"#9c179e\"],[0.4444444444444444,\"#bd3786\"],[0.5555555555555556,\"#d8576b\"],[0.6666666666666666,\"#ed7953\"],[0.7777777777777778,\"#fb9f3a\"],[0.8888888888888888,\"#fdca26\"],[1.0,\"#f0f921\"]],\"sequentialminus\":[[0.0,\"#0d0887\"],[0.1111111111111111,\"#46039f\"],[0.2222222222222222,\"#7201a8\"],[0.3333333333333333,\"#9c179e\"],[0.4444444444444444,\"#bd3786\"],[0.5555555555555556,\"#d8576b\"],[0.6666666666666666,\"#ed7953\"],[0.7777777777777778,\"#fb9f3a\"],[0.8888888888888888,\"#fdca26\"],[1.0,\"#f0f921\"]],\"diverging\":[[0,\"#8e0152\"],[0.1,\"#c51b7d\"],[0.2,\"#de77ae\"],[0.3,\"#f1b6da\"],[0.4,\"#fde0ef\"],[0.5,\"#f7f7f7\"],[0.6,\"#e6f5d0\"],[0.7,\"#b8e186\"],[0.8,\"#7fbc41\"],[0.9,\"#4d9221\"],[1,\"#276419\"]]},\"xaxis\":{\"gridcolor\":\"white\",\"linecolor\":\"white\",\"ticks\":\"\",\"title\":{\"standoff\":15},\"zerolinecolor\":\"white\",\"automargin\":true,\"zerolinewidth\":2},\"yaxis\":{\"gridcolor\":\"white\",\"linecolor\":\"white\",\"ticks\":\"\",\"title\":{\"standoff\":15},\"zerolinecolor\":\"white\",\"automargin\":true,\"zerolinewidth\":2},\"scene\":{\"xaxis\":{\"backgroundcolor\":\"#E5ECF6\",\"gridcolor\":\"white\",\"linecolor\":\"white\",\"showbackground\":true,\"ticks\":\"\",\"zerolinecolor\":\"white\",\"gridwidth\":2},\"yaxis\":{\"backgroundcolor\":\"#E5ECF6\",\"gridcolor\":\"white\",\"linecolor\":\"white\",\"showbackground\":true,\"ticks\":\"\",\"zerolinecolor\":\"white\",\"gridwidth\":2},\"zaxis\":{\"backgroundcolor\":\"#E5ECF6\",\"gridcolor\":\"white\",\"linecolor\":\"white\",\"showbackground\":true,\"ticks\":\"\",\"zerolinecolor\":\"white\",\"gridwidth\":2}},\"shapedefaults\":{\"line\":{\"color\":\"#2a3f5f\"}},\"annotationdefaults\":{\"arrowcolor\":\"#2a3f5f\",\"arrowhead\":0,\"arrowwidth\":1},\"geo\":{\"bgcolor\":\"white\",\"landcolor\":\"#E5ECF6\",\"subunitcolor\":\"white\",\"showland\":true,\"showlakes\":true,\"lakecolor\":\"white\"},\"title\":{\"x\":0.05},\"mapbox\":{\"style\":\"light\"}}},\"xaxis\":{\"anchor\":\"y\",\"domain\":[0.0,1.0],\"title\":{\"text\":\"pc1\"}},\"yaxis\":{\"anchor\":\"x\",\"domain\":[0.0,1.0],\"title\":{\"text\":\"pc2\"}},\"legend\":{\"title\":{\"text\":\"ideology\"},\"tracegroupgap\":0},\"margin\":{\"t\":60}},                        {\"responsive\": true}                    ).then(function(){\n",
       "                            \n",
       "var gd = document.getElementById('e573d25d-e1c7-47ee-a9cc-e06988a6bbe4');\n",
       "var x = new MutationObserver(function (mutations, observer) {{\n",
       "        var display = window.getComputedStyle(gd).display;\n",
       "        if (!display || display === 'none') {{\n",
       "            console.log([gd, 'removed!']);\n",
       "            Plotly.purge(gd);\n",
       "            observer.disconnect();\n",
       "        }}\n",
       "}});\n",
       "\n",
       "// Listen for the removal of the full notebook cells\n",
       "var notebookContainer = gd.closest('#notebook-container');\n",
       "if (notebookContainer) {{\n",
       "    x.observe(notebookContainer, {childList: true});\n",
       "}}\n",
       "\n",
       "// Listen for the clearing of the current output cell\n",
       "var outputEl = gd.closest('.output');\n",
       "if (outputEl) {{\n",
       "    x.observe(outputEl, {childList: true});\n",
       "}}\n",
       "\n",
       "                        })                };                });            </script>        </div>"
      ]
     },
     "metadata": {},
     "output_type": "display_data"
    }
   ],
   "source": [
    "first_2_pcs['state'] = df_standardized.index\n",
    "first_2_pcs.set_index('state', inplace=True)\n",
    "first_2_pcs = first_2_pcs.join(cons_lib)\n",
    "first_2_pcs.reset_index(inplace=True)\n",
    "\n",
    "\n",
    "fig = px.scatter(first_2_pcs, x=\"pc1\", y=\"pc2\", color='ideology',\n",
    "                hover_data={\"state\": True}); \n",
    "\n",
    "fig.show(); "
   ]
  }
 ],
 "metadata": {
  "kernelspec": {
   "display_name": "Python 3 (ipykernel)",
   "language": "python",
   "name": "python3"
  },
  "language_info": {
   "codemirror_mode": {
    "name": "ipython",
    "version": 3
   },
   "file_extension": ".py",
   "mimetype": "text/x-python",
   "name": "python",
   "nbconvert_exporter": "python",
   "pygments_lexer": "ipython3",
   "version": "3.9.7"
  }
 },
 "nbformat": 4,
 "nbformat_minor": 5
}
